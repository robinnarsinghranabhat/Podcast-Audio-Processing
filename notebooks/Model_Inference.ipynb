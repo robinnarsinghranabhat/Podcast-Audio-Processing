{
 "cells": [
  {
   "cell_type": "code",
   "execution_count": 1,
   "id": "c911a346",
   "metadata": {},
   "outputs": [],
   "source": [
    "import os\n",
    "import librosa\n",
    "import librosa.display ## To deal with module `display` not found error\n",
    "\n",
    "import numpy as np\n",
    "import matplotlib.pyplot as plt\n",
    "%matplotlib inline \n",
    "os.chdir('../')\n",
    "\n",
    "## This is necessary to find `src` folder\n",
    "import sys\n",
    "sys.path.append('C:\\\\Users\\\\Robin\\\\Downloads\\\\Podcast-Audio-Processing')\n",
    "\n",
    "\n",
    "# from real_time_inference import RecordThread, TestThread\n",
    "from src.model import Net\n",
    "from src.settings import MODEL_DATA_LOC\n",
    "import torch\n",
    "\n",
    "device = \"cpu\""
   ]
  },
  {
   "cell_type": "code",
   "execution_count": 2,
   "id": "20b990c5",
   "metadata": {},
   "outputs": [],
   "source": [
    "from src.settings import MODEL_DATA_LOC\n",
    "MODEL_DATA_LOC.mkdir(parents=True, exist_ok=True)\n",
    "\n",
    "model_save_name = sorted(os.listdir(MODEL_DATA_LOC))[-1]\n",
    "state = torch.load( MODEL_DATA_LOC / model_save_name )"
   ]
  },
  {
   "cell_type": "code",
   "execution_count": 3,
   "id": "84781ef5",
   "metadata": {},
   "outputs": [
    {
     "data": {
      "text/plain": [
       "0.8561507936507936"
      ]
     },
     "execution_count": 3,
     "metadata": {},
     "output_type": "execute_result"
    }
   ],
   "source": [
    "state['validation_accuracy']"
   ]
  },
  {
   "cell_type": "code",
   "execution_count": 10,
   "id": "908a0842",
   "metadata": {
    "scrolled": true
   },
   "outputs": [
    {
     "data": {
      "text/plain": [
       "Net(\n",
       "  (pool1): MaxPool2d(kernel_size=2, stride=1, padding=0, dilation=1, ceil_mode=False)\n",
       "  (pool2): MaxPool2d(kernel_size=2, stride=2, padding=0, dilation=1, ceil_mode=False)\n",
       "  (pool3): MaxPool2d(kernel_size=2, stride=3, padding=0, dilation=1, ceil_mode=False)\n",
       "  (conv1): Conv2d(1, 24, kernel_size=(5, 5), stride=(1, 1))\n",
       "  (conv1_bn): BatchNorm2d(24, eps=1e-05, momentum=0.1, affine=True, track_running_stats=True)\n",
       "  (conv2): Conv2d(24, 32, kernel_size=(7, 7), stride=(1, 1))\n",
       "  (conv2_bn): BatchNorm2d(32, eps=1e-05, momentum=0.1, affine=True, track_running_stats=True)\n",
       "  (conv3): Conv2d(32, 64, kernel_size=(9, 9), stride=(2, 2))\n",
       "  (conv3_bn): BatchNorm2d(64, eps=1e-05, momentum=0.1, affine=True, track_running_stats=True)\n",
       "  (conv4): Conv2d(64, 64, kernel_size=(11, 11), stride=(2, 2))\n",
       "  (conv4_bn): BatchNorm2d(64, eps=1e-05, momentum=0.1, affine=True, track_running_stats=True)\n",
       "  (fc1): Linear(in_features=576, out_features=64, bias=True)\n",
       "  (fc2): Linear(in_features=64, out_features=3, bias=True)\n",
       ")"
      ]
     },
     "execution_count": 10,
     "metadata": {},
     "output_type": "execute_result"
    }
   ],
   "source": [
    "model = Net()\n",
    "model.load_state_dict(state['state_dict'])\n",
    "model.eval()"
   ]
  },
  {
   "cell_type": "code",
   "execution_count": 12,
   "id": "54719247",
   "metadata": {},
   "outputs": [],
   "source": [
    "## load the latest chunk of audio input :\n",
    "from torch import Tensor\n",
    "from torchvision import transforms\n",
    "\n",
    "audio_transformation = transforms.Compose(\n",
    "    [\n",
    "        lambda x: librosa.feature.melspectrogram(\n",
    "            x, sr=SAMPLE_RATE, n_fft=2048, hop_length=512, n_mels=128, fmin=20, fmax=8300\n",
    "        ),  # MFCC\n",
    "        lambda x: librosa.power_to_db(x, top_db=80),\n",
    "        lambda x: x.reshape(1, x.shape[0], x.shape[1]),\n",
    "    ]\n",
    ")"
   ]
  },
  {
   "cell_type": "code",
   "execution_count": 13,
   "id": "6190aaf0",
   "metadata": {},
   "outputs": [],
   "source": [
    "from src.real_time_inference import RecordThread\n",
    "## SAME SAMPLE RATE AS HOW WE LOAD AUDIO FOR TRAINING ###\n",
    "SAMPLE_RATE = 16000"
   ]
  },
  {
   "cell_type": "code",
   "execution_count": 14,
   "id": "e8583fff",
   "metadata": {},
   "outputs": [],
   "source": [
    "label_mapper = {\n",
    "    0 : 'no_action',\n",
    "    1 : 'start_audio', \n",
    "    2 : 'pause_audio'\n",
    "}"
   ]
  },
  {
   "cell_type": "code",
   "execution_count": 15,
   "id": "f8b4c384",
   "metadata": {
    "scrolled": true
   },
   "outputs": [
    {
     "name": "stdout",
     "output_type": "stream",
     "text": [
      "None\n"
     ]
    },
    {
     "name": "stderr",
     "output_type": "stream",
     "text": [
      "C:\\Users\\Robin\\AppData\\Local\\Continuum\\anaconda3\\envs\\audio\\lib\\site-packages\\ipykernel_launcher.py:17: UserWarning: Implicit dimension choice for softmax has been deprecated. Change the call to include dim=X as an argument.\n"
     ]
    },
    {
     "name": "stdout",
     "output_type": "stream",
     "text": [
      "Output Label - pause_audio || Prob - 0.8005961179733276\n",
      "2 0.8005961179733276\n",
      "0 0.6293120980262756\n",
      "0 0.5940048098564148\n",
      "0 0.5715474486351013\n",
      "Output Label - pause_audio || Prob - 0.6553778648376465\n",
      "2 0.6553778648376465\n",
      "0 0.8386073112487793\n",
      "0 0.6938309669494629\n",
      "0 0.5055956840515137\n",
      "0 0.806901216506958\n",
      "Output Label - pause_audio || Prob - 0.8730143308639526\n",
      "###### - Paused Video - ######\n",
      "2 0.8730143308639526\n",
      "0 0.7022837996482849\n",
      "0 0.4363968074321747\n",
      "Output Label - pause_audio || Prob - 0.638204038143158\n",
      "2 0.638204038143158\n",
      "Output Label - pause_audio || Prob - 0.9366726279258728\n",
      "###### - Paused Video - ######\n",
      "2 0.9366726279258728\n",
      "0 0.7641756534576416\n",
      "0 0.8512588739395142\n",
      "0 0.7208192348480225\n",
      "0 0.929861307144165\n",
      "0 0.8878988027572632\n",
      "0 0.8993860483169556\n",
      "0 0.8657199144363403\n",
      "Output Label - start_audio || Prob - 0.5646669268608093\n",
      "1 0.5646669268608093\n",
      "0 0.8316587209701538\n",
      "Output Label - start_audio || Prob - 0.9247081875801086\n",
      "###### - Started Video - #####\n",
      "1 0.9247081875801086\n",
      "0 0.998497724533081\n",
      "0 0.8544797301292419\n",
      "Output Label - pause_audio || Prob - 0.9995599389076233\n",
      "###### - Paused Video - ######\n",
      "2 0.9995599389076233\n",
      "Output Label - pause_audio || Prob - 0.9062011241912842\n",
      "###### - Paused Video - ######\n",
      "2 0.9062011241912842\n",
      "0 0.8877418041229248\n",
      "0 0.7161072492599487\n",
      "0 0.8296229243278503\n",
      "0 0.8793614506721497\n",
      "0 0.5112010836601257\n",
      "0 0.5418896675109863\n",
      "0 0.9569835662841797\n",
      "0 0.619340181350708\n",
      "Output Label - start_audio || Prob - 0.9983800649642944\n",
      "###### - Started Video - #####\n",
      "1 0.9983800649642944\n",
      "0 0.8418176174163818\n",
      "Output Label - start_audio || Prob - 0.5643991827964783\n",
      "1 0.5643991827964783\n",
      "0 0.8055729866027832\n",
      "0 0.6926644444465637\n",
      "0 0.8973140120506287\n",
      "0 0.7325758934020996\n",
      "0 0.9072787761688232\n",
      "0 0.7846359610557556\n",
      "0 0.7794426679611206\n",
      "Output Label - start_audio || Prob - 0.7310900688171387\n",
      "1 0.7310900688171387\n",
      "Output Label - pause_audio || Prob - 0.9999517202377319\n",
      "###### - Paused Video - ######\n",
      "2 0.9999517202377319\n",
      "Output Label - pause_audio || Prob - 0.8923464417457581\n",
      "###### - Paused Video - ######\n",
      "2 0.8923464417457581\n",
      "Output Label - pause_audio || Prob - 0.98243248462677\n",
      "###### - Paused Video - ######\n",
      "2 0.98243248462677\n",
      "0 0.4620521068572998\n",
      "0 0.43752801418304443\n",
      "0 0.8866158127784729\n",
      "Output Label - start_audio || Prob - 0.7001573443412781\n",
      "1 0.7001573443412781\n",
      "0 0.8444350957870483\n",
      "0 0.9088982343673706\n",
      "0 0.8413401246070862\n",
      "0 0.7672233581542969\n",
      "Output Label - start_audio || Prob - 0.5936194658279419\n",
      "1 0.5936194658279419\n",
      "0 0.9608759880065918\n",
      "0 0.7034773826599121\n",
      "0 0.8598807454109192\n",
      "0 0.728379487991333\n",
      "0 0.5559508800506592\n",
      "Output Label - pause_audio || Prob - 0.5169194936752319\n",
      "2 0.5169194936752319\n",
      "0 0.5871729850769043\n",
      "0 0.7810899019241333\n",
      "0 0.806130588054657\n",
      "Output Label - start_audio || Prob - 0.6269804239273071\n",
      "1 0.6269804239273071\n",
      "Output Label - start_audio || Prob - 0.8638514876365662\n",
      "###### - Started Video - #####\n",
      "1 0.8638514876365662\n",
      "0 0.6897963285446167\n",
      "0 0.4616946280002594\n",
      "0 0.8967589735984802\n",
      "0 0.7077969908714294\n",
      "0 0.4821767210960388\n",
      "0 0.791040301322937\n",
      "0 0.9012073874473572\n",
      "0 0.9975878000259399\n",
      "0 0.9928487539291382\n",
      "0 0.9865823984146118\n",
      "0 0.8659961819648743\n",
      "0 0.8386549949645996\n",
      "Output Label - pause_audio || Prob - 0.9994243383407593\n",
      "###### - Paused Video - ######\n",
      "2 0.9994243383407593\n",
      "Output Label - pause_audio || Prob - 0.932047963142395\n",
      "###### - Paused Video - ######\n",
      "2 0.932047963142395\n",
      "0 0.4722535014152527\n",
      "Output Label - start_audio || Prob - 0.8039111495018005\n",
      "1 0.8039111495018005\n",
      "0 0.6596896052360535\n",
      "0 0.46942833065986633\n",
      "0 0.4018871486186981\n"
     ]
    },
    {
     "name": "stderr",
     "output_type": "stream",
     "text": [
      "C:\\Users\\Robin\\AppData\\Local\\Continuum\\anaconda3\\envs\\audio\\lib\\site-packages\\librosa\\core\\audio.py:162: UserWarning: PySoundFile failed. Trying audioread instead.\n",
      "  warnings.warn(\"PySoundFile failed. Trying audioread instead.\")\n"
     ]
    },
    {
     "name": "stdout",
     "output_type": "stream",
     "text": [
      "Output Label - start_audio || Prob - 0.9533557891845703\n",
      "###### - Started Video - #####\n",
      "1 0.9533557891845703\n",
      "Output Label - start_audio || Prob - 0.6161341667175293\n",
      "1 0.6161341667175293\n",
      "Output Label - start_audio || Prob - 0.8101665377616882\n",
      "1 0.8101665377616882\n",
      "Output Label - start_audio || Prob - 0.9960092306137085\n",
      "###### - Started Video - #####\n",
      "1 0.9960092306137085\n",
      "0 0.5727951526641846\n",
      "0 0.5446871519088745\n",
      "0 0.5641118884086609\n",
      "Output Label - start_audio || Prob - 0.8006323575973511\n",
      "1 0.8006323575973511\n",
      "0 0.7655408382415771\n",
      "Output Label - start_audio || Prob - 0.9399402737617493\n",
      "###### - Started Video - #####\n",
      "1 0.9399402737617493\n",
      "Output Label - start_audio || Prob - 0.9949347376823425\n",
      "###### - Started Video - #####\n",
      "1 0.9949347376823425\n",
      "Output Label - pause_audio || Prob - 0.9791972041130066\n",
      "###### - Paused Video - ######\n",
      "2 0.9791972041130066\n",
      "Output Label - pause_audio || Prob - 0.9902979731559753\n",
      "###### - Paused Video - ######\n",
      "2 0.9902979731559753\n",
      "0 0.6661310791969299\n",
      "Output Label - pause_audio || Prob - 0.8504830598831177\n",
      "###### - Paused Video - ######\n",
      "2 0.8504830598831177\n",
      "0 0.42069533467292786\n",
      "Output Label - pause_audio || Prob - 0.9812854528427124\n",
      "###### - Paused Video - ######\n",
      "2 0.9812854528427124\n",
      "0 0.6754588484764099\n",
      "0 0.6563928723335266\n",
      "0 0.5904318690299988\n",
      "0 0.5499024391174316\n",
      "0 0.7973461747169495\n",
      "0 0.5390075445175171\n",
      "Output Label - pause_audio || Prob - 0.9999992847442627\n",
      "###### - Paused Video - ######\n",
      "2 0.9999992847442627\n",
      "Output Label - pause_audio || Prob - 0.9976649284362793\n",
      "###### - Paused Video - ######\n",
      "2 0.9976649284362793\n",
      "0 0.7277781367301941\n",
      "0 0.5267406105995178\n",
      "0 0.3939600884914398\n",
      "0 0.8727763891220093\n",
      "Output Label - pause_audio || Prob - 0.9998496770858765\n",
      "###### - Paused Video - ######\n",
      "2 0.9998496770858765\n",
      "0 0.6863763928413391\n",
      "Output Label - start_audio || Prob - 0.7441868782043457\n",
      "1 0.7441868782043457\n",
      "Output Label - start_audio || Prob - 0.6181585192680359\n",
      "1 0.6181585192680359\n",
      "0 0.406479150056839\n",
      "0 0.875262439250946\n",
      "0 0.7308374643325806\n",
      "0 0.7541458606719971\n",
      "0 0.5104062557220459\n",
      "Output Label - start_audio || Prob - 0.5643876194953918\n",
      "1 0.5643876194953918\n",
      "0 0.8003659844398499\n",
      "Output Label - start_audio || Prob - 0.5417337417602539\n",
      "1 0.5417337417602539\n",
      "0 0.7179421186447144\n"
     ]
    },
    {
     "ename": "KeyboardInterrupt",
     "evalue": "",
     "output_type": "error",
     "traceback": [
      "\u001b[1;31m---------------------------------------------------------------------------\u001b[0m",
      "\u001b[1;31mKeyboardInterrupt\u001b[0m                         Traceback (most recent call last)",
      "\u001b[1;32m<ipython-input-15-367963187ec6>\u001b[0m in \u001b[0;36m<module>\u001b[1;34m\u001b[0m\n\u001b[0;32m     34\u001b[0m \u001b[1;33m\u001b[0m\u001b[0m\n\u001b[0;32m     35\u001b[0m         \u001b[0mprint\u001b[0m\u001b[1;33m(\u001b[0m\u001b[0mout_ind\u001b[0m\u001b[1;33m,\u001b[0m \u001b[0mout_val\u001b[0m\u001b[1;33m)\u001b[0m\u001b[1;33m\u001b[0m\u001b[1;33m\u001b[0m\u001b[0m\n\u001b[1;32m---> 36\u001b[1;33m         \u001b[0mtime\u001b[0m\u001b[1;33m.\u001b[0m\u001b[0msleep\u001b[0m\u001b[1;33m(\u001b[0m\u001b[1;36m2\u001b[0m\u001b[1;33m)\u001b[0m\u001b[1;33m\u001b[0m\u001b[1;33m\u001b[0m\u001b[0m\n\u001b[0m\u001b[0;32m     37\u001b[0m \u001b[1;33m\u001b[0m\u001b[0m\n\u001b[0;32m     38\u001b[0m     \u001b[1;32mexcept\u001b[0m \u001b[0mException\u001b[0m \u001b[1;32mas\u001b[0m \u001b[0me\u001b[0m\u001b[1;33m:\u001b[0m\u001b[1;33m\u001b[0m\u001b[1;33m\u001b[0m\u001b[0m\n",
      "\u001b[1;31mKeyboardInterrupt\u001b[0m: "
     ]
    }
   ],
   "source": [
    "# THIS PUTS LATEST AUDIO COPY IN THE BACKGROUND\n",
    "record = RecordThread(\"sample_record.wav\", 4, SAMPLE_RATE)\n",
    "print(record.start())\n",
    "\n",
    "import time\n",
    "prev_data = None\n",
    "\n",
    "\n",
    "while True:\n",
    "    try:\n",
    "        data, sr = librosa.load(\"inference_0.wav\", sr=SAMPLE_RATE)\n",
    "\n",
    "        data = audio_transformation(data)\n",
    "        data = Tensor(data.reshape(-1, 1, 128, 126))\n",
    "\n",
    "        out = model(data)\n",
    "        out = torch.nn.functional.softmax(out)\n",
    "        out_ind = torch.argmax(out).item()\n",
    "        out_val = torch.max(out).item()\n",
    "        # print(out)\n",
    "        # import pdb; pdb.set_trace()\n",
    "        \n",
    "        label_out = label_mapper[out_ind]\n",
    "        if label_out != 'no_action':\n",
    "            print(f'Output Label - {label_out} || Prob - {out_val}' )\n",
    "        \n",
    "        if out_ind == 1 and out_val > 0.9:\n",
    "            print(\"###### - Started Video - #####\")\n",
    "            time.sleep(0.1)\n",
    "\n",
    "        if out_ind == 2 and out_val > 0.9:\n",
    "            print(\"###### - Paused Video - ######\")\n",
    "            time.sleep(0.1)\n",
    "\n",
    "        print(out_ind, out_val)\n",
    "        time.sleep(2)\n",
    "\n",
    "    except Exception as e:\n",
    "        print(f'GOT ERROR - {e}')\n",
    "        break\n",
    "\n",
    "\n",
    "record.stoprecord()"
   ]
  },
  {
   "cell_type": "code",
   "execution_count": 9,
   "id": "3b58af85",
   "metadata": {},
   "outputs": [
    {
     "name": "stdout",
     "output_type": "stream",
     "text": [
      "Finished recording an interval \n",
      "Saving the interval\n",
      "Finished recording an interval \n",
      "Saving the interval\n",
      "Finished recording an interval \n",
      "Saving the interval\n"
     ]
    }
   ],
   "source": [
    "data, sr = librosa.load(\"inference_0.wav\", sr=SAMPLE_RATE)\n",
    "# if prev_data is not None and all(prev_data == data):\n",
    "#     continue\n",
    "# prev_data = data.copy()\n",
    "\n",
    "data = audio_transformation(data)"
   ]
  },
  {
   "cell_type": "code",
   "execution_count": null,
   "id": "f1856bfc",
   "metadata": {},
   "outputs": [],
   "source": []
  }
 ],
 "metadata": {
  "kernelspec": {
   "display_name": "audio_env",
   "language": "python",
   "name": "audio_env"
  },
  "language_info": {
   "codemirror_mode": {
    "name": "ipython",
    "version": 3
   },
   "file_extension": ".py",
   "mimetype": "text/x-python",
   "name": "python",
   "nbconvert_exporter": "python",
   "pygments_lexer": "ipython3",
   "version": "3.7.9"
  }
 },
 "nbformat": 4,
 "nbformat_minor": 5
}
