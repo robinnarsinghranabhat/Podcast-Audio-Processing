{
 "cells": [
  {
   "cell_type": "markdown",
   "metadata": {},
   "source": [
    "##  Training Dataset Preparation\n",
    "\n",
    "Input to model : 8 sec of audio clip with My sound Dubbed in between . \n",
    "\n",
    "Label : Label some number of time steps \n",
    "\n",
    "Inference : Model listens for 8 second for a while. Then, processes it . waits for a while. Then, Processes ..\n",
    "\n",
    "More like, multithread, such that, by time it processes for prediction generation, it's preparing next wave .\n",
    "\n",
    "The computaiton control is done by time.sleep .. "
   ]
  },
  {
   "cell_type": "code",
   "execution_count": 1,
   "metadata": {},
   "outputs": [
    {
     "output_type": "stream",
     "name": "stderr",
     "text": [
      "C:\\Users\\Robin\\AppData\\Local\\Continuum\\anaconda3\\envs\\audio\\lib\\site-packages\\pydub\\utils.py:165: RuntimeWarning: Couldn't find ffmpeg or avconv - defaulting to ffmpeg, but may not work\n  warn(\"Couldn't find ffmpeg or avconv - defaulting to ffmpeg, but may not work\", RuntimeWarning)\n"
     ]
    }
   ],
   "source": [
    "import numpy as np\n",
    "from pydub import AudioSegment\n",
    "import random\n",
    "import sys\n",
    "import io\n",
    "import os\n",
    "import glob\n",
    "import IPython\n",
    "%matplotlib inline"
   ]
  },
  {
   "cell_type": "code",
   "execution_count": 2,
   "metadata": {},
   "outputs": [],
   "source": [
    "import logging"
   ]
  },
  {
   "cell_type": "code",
   "execution_count": 3,
   "metadata": {},
   "outputs": [],
   "source": [
    "os.chdir('../')"
   ]
  },
  {
   "cell_type": "code",
   "execution_count": 4,
   "metadata": {},
   "outputs": [],
   "source": [
    "# IPython.display.Audio(\"data/external/sample_internet.wav\")"
   ]
  },
  {
   "cell_type": "code",
   "execution_count": 5,
   "metadata": {},
   "outputs": [],
   "source": [
    "from pydub import AudioSegment\n",
    "song = AudioSegment.from_wav('./data/external/podact_data/train_1.wav')"
   ]
  },
  {
   "cell_type": "code",
   "execution_count": 6,
   "metadata": {},
   "outputs": [
    {
     "output_type": "execute_result",
     "data": {
      "text/plain": [
       "pydub.audio_segment.AudioSegment"
      ]
     },
     "metadata": {},
     "execution_count": 6
    }
   ],
   "source": [
    "type(song)"
   ]
  },
  {
   "cell_type": "code",
   "execution_count": 7,
   "metadata": {},
   "outputs": [],
   "source": [
    "## load training examles"
   ]
  },
  {
   "cell_type": "code",
   "execution_count": 8,
   "metadata": {},
   "outputs": [
    {
     "output_type": "stream",
     "name": "stdout",
     "text": [
      "Traning Clip Vol :  -30.7636744506485\nTraning Clip Len in Mills : 697\nTraning Clip Vol :  -36.48736885673499\nTraning Clip Len in Mills : 650\nTraning Clip Vol :  -37.11067469779735\nTraning Clip Len in Mills : 731\nTraning Clip Vol :  -39.304431638092474\nTraning Clip Len in Mills : 975\nTraning Clip Vol :  -33.38225645659825\nTraning Clip Len in Mills : 685\nTraning Clip Vol :  -39.80810255845745\nTraning Clip Len in Mills : 743\nTraning Clip Vol :  -43.66022950088225\nTraning Clip Len in Mills : 650\nTraning Clip Vol :  -42.07660457992975\nTraning Clip Len in Mills : 673\nTraning Clip Vol :  -43.03675910135147\nTraning Clip Len in Mills : 720\nTraning Clip Vol :  -39.91243882367998\nTraning Clip Len in Mills : 836\nTraning Clip Vol :  -32.624423306542276\nTraning Clip Len in Mills : 1010\nTraning Clip Vol :  -37.18703465893772\nTraning Clip Len in Mills : 766\nTraning Clip Vol :  -36.95993964139527\nTraning Clip Len in Mills : 789\nTraning Clip Vol :  -28.267188188957626\nTraning Clip Len in Mills : 685\nTraning Clip Vol :  -26.851104744150835\nTraning Clip Len in Mills : 801\nTraning Clip Vol :  -29.095041892122122\nTraning Clip Len in Mills : 952\nTraning Clip Vol :  -33.22287786317275\nTraning Clip Len in Mills : 894\nTraning Clip Vol :  -28.967581578286953\nTraning Clip Len in Mills : 743\nTraning Clip Vol :  -31.399626996557963\nTraning Clip Len in Mills : 824\nTraning Clip Vol :  -32.01156234839335\nTraning Clip Len in Mills : 836\nTraning Clip Vol :  -31.528603170221025\nTraning Clip Len in Mills : 766\nTraning Clip Vol :  -32.51176427403059\nTraning Clip Len in Mills : 650\nTraning Clip Vol :  -29.087492226598517\nTraning Clip Len in Mills : 778\nTraning Clip Vol :  -29.713209282557244\nTraning Clip Len in Mills : 940\nTraning Clip Vol :  -31.62913542256951\nTraning Clip Len in Mills : 952\nTraning Clip Vol :  -30.213975587374332\nTraning Clip Len in Mills : 859\nTraning Clip Vol :  -29.843949506520126\nTraning Clip Len in Mills : 871\nTraning Clip Vol :  -29.584407817468467\nTraning Clip Len in Mills : 952\nTraning Clip Vol :  -26.689287083459746\nTraning Clip Len in Mills : 766\nTraning Clip Vol :  -27.367845278627158\nTraning Clip Len in Mills : 813\nTraning Clip Vol :  -33.16234877056899\nTraning Clip Len in Mills : 801\nTraning Clip Vol :  -32.48940675940057\nTraning Clip Len in Mills : 871\nTraning Clip Vol :  -36.59416392714908\nTraning Clip Len in Mills : 708\nTraning Clip Vol :  -41.68172341601461\nTraning Clip Len in Mills : 755\nTraning Clip Vol :  -41.273269988708556\nTraning Clip Len in Mills : 824\nTraning Clip Vol :  -41.97618855242873\nTraning Clip Len in Mills : 662\n"
     ]
    }
   ],
   "source": [
    "root_ =  './data/external/podact_data/activates_robin'\n",
    "clips = []\n",
    "for i in os.listdir(root_):\n",
    "    if i[0].isdigit():\n",
    "        clip_path = os.path.join( root_ , i ) \n",
    "        clip = AudioSegment.from_wav(clip_path)\n",
    "        print('Traning Clip Vol : ' , clip.dBFS )\n",
    "        print('Traning Clip Len in Mills :' , len(clip))\n",
    "        clips.append( clip )"
   ]
  },
  {
   "cell_type": "code",
   "execution_count": 9,
   "metadata": {},
   "outputs": [
    {
     "output_type": "stream",
     "name": "stdout",
     "text": [
      "Traning Clip Vol :  -25.117121121475382\nTraning Clip Len in Mills : 929\nTraning Clip Vol :  -23.28467179240752\nTraning Clip Len in Mills : 848\nTraning Clip Vol :  -20.927292716731948\nTraning Clip Len in Mills : 1080\nTraning Clip Vol :  -21.880210894793365\nTraning Clip Len in Mills : 940\nTraning Clip Vol :  -23.409370420649193\nTraning Clip Len in Mills : 998\nTraning Clip Vol :  -20.65724330865901\nTraning Clip Len in Mills : 848\nTraning Clip Vol :  -21.013248306275617\nTraning Clip Len in Mills : 964\nTraning Clip Vol :  -21.166506173126184\nTraning Clip Len in Mills : 952\nTraning Clip Vol :  -18.667731440960182\nTraning Clip Len in Mills : 778\nTraning Clip Vol :  -24.21057546117652\nTraning Clip Len in Mills : 848\nTraning Clip Vol :  -24.120654183631558\nTraning Clip Len in Mills : 859\nTraning Clip Vol :  -27.62545654765903\nTraning Clip Len in Mills : 882\nTraning Clip Vol :  -29.15567662099777\nTraning Clip Len in Mills : 894\nTraning Clip Vol :  -25.438316662553117\nTraning Clip Len in Mills : 882\nTraning Clip Vol :  -29.293672474533512\nTraning Clip Len in Mills : 1057\nTraning Clip Vol :  -29.049842017504155\nTraning Clip Len in Mills : 952\nTraning Clip Vol :  -28.308484097037105\nTraning Clip Len in Mills : 882\nTraning Clip Vol :  -33.76161323811785\nTraning Clip Len in Mills : 1022\nTraning Clip Vol :  -28.13093614584809\nTraning Clip Len in Mills : 1010\nTraning Clip Vol :  -34.29465713354666\nTraning Clip Len in Mills : 848\nTraning Clip Vol :  -25.295720309929486\nTraning Clip Len in Mills : 848\nTraning Clip Vol :  -26.16169794981292\nTraning Clip Len in Mills : 1474\nTraning Clip Vol :  -26.816174845985387\nTraning Clip Len in Mills : 1010\nTraning Clip Vol :  -27.32461644608676\nTraning Clip Len in Mills : 964\nTraning Clip Vol :  -28.510896470406397\nTraning Clip Len in Mills : 964\nTraning Clip Vol :  -26.017419627784374\nTraning Clip Len in Mills : 929\nTraning Clip Vol :  -22.497361128185652\nTraning Clip Len in Mills : 1382\nTraning Clip Vol :  -22.529222996700074\nTraning Clip Len in Mills : 871\nTraning Clip Vol :  -24.867522949194157\nTraning Clip Len in Mills : 1138\nTraning Clip Vol :  -19.818479966666843\nTraning Clip Len in Mills : 871\nTraning Clip Vol :  -25.069474871238103\nTraning Clip Len in Mills : 917\nTraning Clip Vol :  -24.345041356998056\nTraning Clip Len in Mills : 882\n"
     ]
    }
   ],
   "source": [
    "root_ =  './data/external/podact_data/start_robin'\n",
    "clips_start = []\n",
    "for i in os.listdir(root_):\n",
    "    if i[0].isdigit():\n",
    "        clip_path = os.path.join( root_ , i ) \n",
    "        clip = AudioSegment.from_wav(clip_path)\n",
    "        print('Traning Clip Vol : ' , clip.dBFS )\n",
    "        print('Traning Clip Len in Mills :' , len(clip))\n",
    "        clips_start.append( clip )"
   ]
  },
  {
   "cell_type": "code",
   "execution_count": 10,
   "metadata": {},
   "outputs": [],
   "source": [
    "total_song_length = song.duration_seconds"
   ]
  },
  {
   "cell_type": "code",
   "execution_count": 11,
   "metadata": {},
   "outputs": [
    {
     "output_type": "stream",
     "name": "stderr",
     "text": [
      "C:\\Users\\Robin\\AppData\\Local\\Continuum\\anaconda3\\envs\\audio\\lib\\site-packages\\pydub\\utils.py:179: RuntimeWarning: Couldn't find ffplay or avplay - defaulting to ffplay, but may not work\n  warn(\"Couldn't find ffplay or avplay - defaulting to ffplay, but may not work\", RuntimeWarning)\n"
     ]
    }
   ],
   "source": [
    "from pydub.playback import play\n",
    "import random"
   ]
  },
  {
   "cell_type": "code",
   "execution_count": 12,
   "metadata": {},
   "outputs": [],
   "source": [
    "n = 1000\n",
    "play( song[23.9999999 * n : 29 * n] ) "
   ]
  },
  {
   "cell_type": "code",
   "execution_count": 13,
   "metadata": {},
   "outputs": [],
   "source": [
    "def sample_from_activate( clip_list ):\n",
    "    return random.choice(clip_list)\n",
    "\n",
    "## experimental \n",
    "def adjust_level(sound, deviation=None , default = True):\n",
    "    if default or deviation is None:\n",
    "        return sound\n",
    "    else:\n",
    "        difference = np.random.normal(clip.dBFS , deviation )\n",
    "        print(f'Original : {clip.dBFS}')\n",
    "        print(f'Deviated by : {difference}')\n",
    "        return sound.apply_gain(difference)\n",
    "\n",
    "def sample_from_background( background , total_duration_sec , clip_size = 4 ,  multiplier = 1000 ):\n",
    "        \n",
    "    total_duration_ = total_duration_sec - clip_size\n",
    "    selection_start = np.random.uniform(  0 , total_duration_  ) \n",
    "    selection_end = (selection_start + clip_size) * multiplier\n",
    "        \n",
    "    background_clip = background[ selection_start * multiplier : selection_end  ] \n",
    "    return background_clip\n",
    "\n",
    "def overlay_clip_to_bg( background , clip ):\n",
    "    '''\n",
    "        Dub Clip to background\n",
    "    '''\n",
    "    overlay_point_start = np.random.uniform( 0 , background.duration_seconds ) * 1000\n",
    "    overlay_point_end = overlay_point_start + len(clip)\n",
    "    overlay_point_end = min( len(background) , overlay_point_end  )\n",
    "    \n",
    "    return background.overlay( clip , position =  overlay_point_start ) , overlay_point_start , overlay_point_end"
   ]
  },
  {
   "cell_type": "code",
   "execution_count": 14,
   "metadata": {},
   "outputs": [],
   "source": [
    "play(clip)"
   ]
  },
  {
   "cell_type": "code",
   "execution_count": 15,
   "metadata": {},
   "outputs": [
    {
     "output_type": "stream",
     "name": "stdout",
     "text": [
      "Wall time: 265 ms\n"
     ]
    }
   ],
   "source": [
    "%%time\n",
    "## check the goddamn speed\n",
    "for i in range(3000):\n",
    "    _ = sample_from_background(song, total_song_length)"
   ]
  },
  {
   "cell_type": "code",
   "execution_count": 16,
   "metadata": {},
   "outputs": [],
   "source": [
    "def generate_single_example( background , voice_clips, background_only=False ):\n",
    "    \n",
    "    total_background_length = background.duration_seconds \n",
    "    background = sample_from_background( background , total_background_length )\n",
    "    \n",
    "    ## positive labels here\n",
    "    if not background_only:\n",
    "        # print('Positive Example Added')\n",
    "        clip_to_dub = sample_from_activate( voice_clips )\n",
    "        overlayed_clip, time_stamp_start , time_stamp_end = overlay_clip_to_bg( background, clip_to_dub )  \n",
    "        return overlayed_clip , time_stamp_start , time_stamp_end\n",
    "    \n",
    "    else:\n",
    "        # print('Negative Example Added')\n",
    "        return background , None, None"
   ]
  },
  {
   "cell_type": "code",
   "execution_count": 31,
   "metadata": {},
   "outputs": [],
   "source": [
    "import pandas as pd"
   ]
  },
  {
   "cell_type": "code",
   "execution_count": 36,
   "metadata": {},
   "outputs": [],
   "source": [
    "def prep_examples( no_of_examples = 3000 ):\n",
    "\n",
    "    save_path = \"data\\\\external\\\\processed\\\\\"\n",
    "    import pandas as pd\n",
    "\n",
    "    meta_data = pd.DataFrame(columns=['filename','start_time','end_time','label_type'])\n",
    "    \n",
    "    for i in range( no_of_examples ):\n",
    "        save_name = f'{i}.wav'\n",
    "\n",
    "        prob = random.random()\n",
    "        if prob < 0.333333 : \n",
    "            sample , s ,e = generate_single_example( song , clips )\n",
    "            label_type = 'activate'\n",
    "        elif prob >= 0.33 and prob <= 0.66666:\n",
    "            sample , s ,e = generate_single_example( song , clips_start )\n",
    "            label_type = 'start'\n",
    "        else:\n",
    "            sample , s ,e = generate_single_example( song , None, background_only=True )\n",
    "            label_type = 'None'\n",
    "            \n",
    "        sample.export( os.path.join( save_path , save_name ) ,format='wav')\n",
    "        meta_data.loc[i] = [ save_name, s, e, label_type   ] \n",
    "    \n",
    "    return meta_data"
   ]
  },
  {
   "cell_type": "code",
   "execution_count": 62,
   "metadata": {
    "tags": []
   },
   "outputs": [],
   "source": [
    "meta = prep_examples(3000)"
   ]
  },
  {
   "cell_type": "code",
   "execution_count": 63,
   "metadata": {},
   "outputs": [
    {
     "output_type": "execute_result",
     "data": {
      "text/plain": [
       "start       1065\n",
       "None         988\n",
       "activate     947\n",
       "Name: label_type, dtype: int64"
      ]
     },
     "metadata": {},
     "execution_count": 63
    }
   ],
   "source": [
    "meta.label_type.value_counts()"
   ]
  },
  {
   "cell_type": "code",
   "execution_count": 64,
   "metadata": {},
   "outputs": [],
   "source": [
    "meta.to_csv('data//meta_data.csv',index=False)"
   ]
  },
  {
   "cell_type": "code",
   "execution_count": 65,
   "metadata": {},
   "outputs": [
    {
     "output_type": "execute_result",
     "data": {
      "text/plain": [
       "      filename   start_time     end_time label_type\n",
       "0        0.wav  2494.334973  3342.334973      start\n",
       "1        1.wav  2404.908832  3402.908832      start\n",
       "2        2.wav  2169.297210  3179.297210   activate\n",
       "3        3.wav          NaN          NaN       None\n",
       "4        4.wav          NaN          NaN       None\n",
       "...        ...          ...          ...        ...\n",
       "2995  2995.wav          NaN          NaN       None\n",
       "2996  2996.wav          NaN          NaN       None\n",
       "2997  2997.wav          NaN          NaN       None\n",
       "2998  2998.wav          NaN          NaN       None\n",
       "2999  2999.wav          NaN          NaN       None\n",
       "\n",
       "[3000 rows x 4 columns]"
      ],
      "text/html": "<div>\n<style scoped>\n    .dataframe tbody tr th:only-of-type {\n        vertical-align: middle;\n    }\n\n    .dataframe tbody tr th {\n        vertical-align: top;\n    }\n\n    .dataframe thead th {\n        text-align: right;\n    }\n</style>\n<table border=\"1\" class=\"dataframe\">\n  <thead>\n    <tr style=\"text-align: right;\">\n      <th></th>\n      <th>filename</th>\n      <th>start_time</th>\n      <th>end_time</th>\n      <th>label_type</th>\n    </tr>\n  </thead>\n  <tbody>\n    <tr>\n      <th>0</th>\n      <td>0.wav</td>\n      <td>2494.334973</td>\n      <td>3342.334973</td>\n      <td>start</td>\n    </tr>\n    <tr>\n      <th>1</th>\n      <td>1.wav</td>\n      <td>2404.908832</td>\n      <td>3402.908832</td>\n      <td>start</td>\n    </tr>\n    <tr>\n      <th>2</th>\n      <td>2.wav</td>\n      <td>2169.297210</td>\n      <td>3179.297210</td>\n      <td>activate</td>\n    </tr>\n    <tr>\n      <th>3</th>\n      <td>3.wav</td>\n      <td>NaN</td>\n      <td>NaN</td>\n      <td>None</td>\n    </tr>\n    <tr>\n      <th>4</th>\n      <td>4.wav</td>\n      <td>NaN</td>\n      <td>NaN</td>\n      <td>None</td>\n    </tr>\n    <tr>\n      <th>...</th>\n      <td>...</td>\n      <td>...</td>\n      <td>...</td>\n      <td>...</td>\n    </tr>\n    <tr>\n      <th>2995</th>\n      <td>2995.wav</td>\n      <td>NaN</td>\n      <td>NaN</td>\n      <td>None</td>\n    </tr>\n    <tr>\n      <th>2996</th>\n      <td>2996.wav</td>\n      <td>NaN</td>\n      <td>NaN</td>\n      <td>None</td>\n    </tr>\n    <tr>\n      <th>2997</th>\n      <td>2997.wav</td>\n      <td>NaN</td>\n      <td>NaN</td>\n      <td>None</td>\n    </tr>\n    <tr>\n      <th>2998</th>\n      <td>2998.wav</td>\n      <td>NaN</td>\n      <td>NaN</td>\n      <td>None</td>\n    </tr>\n    <tr>\n      <th>2999</th>\n      <td>2999.wav</td>\n      <td>NaN</td>\n      <td>NaN</td>\n      <td>None</td>\n    </tr>\n  </tbody>\n</table>\n<p>3000 rows × 4 columns</p>\n</div>"
     },
     "metadata": {},
     "execution_count": 65
    }
   ],
   "source": [
    "meta"
   ]
  },
  {
   "cell_type": "code",
   "execution_count": 55,
   "metadata": {},
   "outputs": [],
   "source": [
    "# save_path = \"data\\\\external\\\\processed\\\\\"\n",
    "# train_path = os.path.join(save_path, 'train')\n",
    "# test_path = os.path.join(save_path, 'test')\n",
    "\n",
    "# os.makedirs(train_path, exist_ok=True)\n",
    "# os.makedirs(test_path, exist_ok=True)"
   ]
  },
  {
   "cell_type": "code",
   "execution_count": 57,
   "metadata": {},
   "outputs": [],
   "source": [
    "# import shutil\n",
    "# for ind, files in enumerate(os.listdir(save_path)):\n",
    "#     try:\n",
    "#         int(files[0])\n",
    "#         src = os.path.join( save_path, files )\n",
    "#         if ind < 2000:\n",
    "#             shutil.move( src, train_path )\n",
    "#         else:\n",
    "#             shutil.move( src, test_path )\n",
    "#     except:\n",
    "#         continue"
   ]
  }
 ],
 "metadata": {
  "kernelspec": {
   "name": "python3",
   "display_name": "Python 3",
   "language": "python"
  },
  "language_info": {
   "codemirror_mode": {
    "name": "ipython",
    "version": 3
   },
   "file_extension": ".py",
   "mimetype": "text/x-python",
   "name": "python",
   "nbconvert_exporter": "python",
   "pygments_lexer": "ipython3",
   "version": "3.7.9-final"
  }
 },
 "nbformat": 4,
 "nbformat_minor": 2
}