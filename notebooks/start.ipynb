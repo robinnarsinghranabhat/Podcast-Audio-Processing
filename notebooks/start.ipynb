{
 "cells": [
  {
   "cell_type": "markdown",
   "metadata": {},
   "source": [
    "##  Training Dataset Preparation\n",
    "\n",
    "Input to model : 8 sec of audio clip with My sound Dubbed in between . \n",
    "\n",
    "Label : Label some number of time steps \n",
    "\n",
    "Inference : Model listens for 8 second for a while. Then, processes it . waits for a while. Then, Processes ..\n",
    "\n",
    "More like, multithread, such that, by time it processes for prediction generation, it's preparing next wave .\n",
    "\n",
    "The computaiton control is done by time.sleep .. "
   ]
  },
  {
   "cell_type": "code",
   "execution_count": 1,
   "metadata": {},
   "outputs": [],
   "source": [
    "import numpy as np\n",
    "from pydub import AudioSegment\n",
    "import random\n",
    "import sys\n",
    "import io\n",
    "import os\n",
    "import glob\n",
    "import IPython\n",
    "%matplotlib inline"
   ]
  },
  {
   "cell_type": "code",
   "execution_count": 2,
   "metadata": {},
   "outputs": [],
   "source": [
    "import logging"
   ]
  },
  {
   "cell_type": "code",
   "execution_count": 3,
   "metadata": {},
   "outputs": [],
   "source": [
    "os.chdir('../')"
   ]
  },
  {
   "cell_type": "code",
   "execution_count": 4,
   "metadata": {},
   "outputs": [],
   "source": [
    "# IPython.display.Audio(\"data/external/sample_internet.wav\")"
   ]
  },
  {
   "cell_type": "code",
   "execution_count": 5,
   "metadata": {},
   "outputs": [
    {
     "name": "stdout",
     "output_type": "stream",
     "text": [
      " Volume in drive C is OS\n",
      " Volume Serial Number is 7095-B01C\n",
      "\n",
      " Directory of C:\\Users\\Robin\\Downloads\\Podcast-Audio-Processing\n",
      "\n",
      "03/27/2022  02:15 PM    <DIR>          .\n",
      "03/27/2022  02:15 PM    <DIR>          ..\n",
      "03/27/2022  01:06 PM    <DIR>          .git\n",
      "03/27/2022  01:06 PM                80 .gitignore\n",
      "03/27/2022  01:03 PM    <DIR>          .ipynb_checkpoints\n",
      "03/27/2022  01:06 PM         5,854,438 audio_augmentation.ipynb\n",
      "03/27/2022  01:53 PM        30,014,677 back_sover_ind_chap_1.mp3\n",
      "03/27/2022  07:26 PM    <DIR>          data\n",
      "03/27/2022  01:12 PM                 0 Design_.md\n",
      "03/27/2022  01:06 PM             7,589 feature_extraction.py\n",
      "03/27/2022  11:17 PM    <DIR>          notebooks\n",
      "03/27/2022  01:06 PM             1,222 plot_helper.py\n",
      "03/27/2022  12:51 PM             3,214 README.md\n",
      "03/27/2022  01:06 PM    <DIR>          src\n",
      "               7 File(s)     35,881,220 bytes\n",
      "               7 Dir(s)  105,552,412,672 bytes free\n"
     ]
    }
   ],
   "source": [
    "ls"
   ]
  },
  {
   "cell_type": "code",
   "execution_count": 6,
   "metadata": {},
   "outputs": [
    {
     "data": {
      "text/plain": [
       "'C:\\\\Users\\\\Robin\\\\Downloads\\\\Podcast-Audio-Processing'"
      ]
     },
     "execution_count": 6,
     "metadata": {},
     "output_type": "execute_result"
    }
   ],
   "source": [
    "pwd"
   ]
  },
  {
   "cell_type": "code",
   "execution_count": 7,
   "metadata": {
    "tags": []
   },
   "outputs": [],
   "source": [
    "from pydub import AudioSegment\n",
    "from pathlib import Path\n",
    "\n",
    "song1_part1_path = Path(\"./data/Good_Backgrounds/back_bitcooin_book_p1.wav\")\n",
    "song1_part2_path = Path(\"./data/Good_Backgrounds/background_lex_recorded.wav\")\n",
    "song2_path = Path('data/Good_Backgrounds/The Sovereign Individual-Part01-1.mp3')\n",
    "# ./data/The Sovereign Individual-Part01-1.mp3')\n",
    "# data/The Sovereign Individual-Part01-1.mp3\n",
    "# data/Saifedean A. - The Bitcoin Standard.mp3\n",
    "song1_part1 = AudioSegment.from_wav(song1_part1_path)\n",
    "song1_part2 = AudioSegment.from_wav(song1_part2_path)\n",
    "song2 = AudioSegment.from_mp3(song2_path)"
   ]
  },
  {
   "cell_type": "code",
   "execution_count": 8,
   "metadata": {},
   "outputs": [],
   "source": [
    "## Oversample fromduration_secondsans part\n",
    "song = song1_part1 + song2 + (song1_part2 * 2) \n",
    "del song1_part1 \n",
    "del song1_part2\n",
    "del song2"
   ]
  },
  {
   "cell_type": "code",
   "execution_count": 9,
   "metadata": {},
   "outputs": [
    {
     "name": "stdout",
     "output_type": "stream",
     "text": [
      "Total time (minutes) of Background Audio :  314.0\n"
     ]
    }
   ],
   "source": [
    "print('Total time (minutes) of Background Audio : ', song.duration_seconds // 60)"
   ]
  },
  {
   "cell_type": "code",
   "execution_count": 10,
   "metadata": {},
   "outputs": [
    {
     "name": "stdout",
     "output_type": "stream",
     "text": [
      "Clip Vol : -28.09047385386595 , Clip Len 0.7082086167800453\n",
      "Clip Vol : -28.849303806635746 , Clip Len 0.905578231292517\n",
      "Clip Vol : -23.943557094961818 , Clip Len 0.8359183673469388\n",
      "Clip Vol : -24.886112340212794 , Clip Len 0.7198185941043084\n",
      "Clip Vol : -26.758268700597117 , Clip Len 0.9520181405895691\n",
      "Clip Vol : -27.257117140644958 , Clip Len 1.0913378684807256\n",
      "Clip Vol : -24.137710427969576 , Clip Len 0.7546485260770975\n",
      "Clip Vol : -24.970260476010896 , Clip Len 0.5456689342403628\n",
      "Clip Vol : -29.762006543699226 , Clip Len 1.242267573696145\n",
      "Clip Vol : -28.24661362828008 , Clip Len 0.626938775510204\n",
      "Clip Vol : -21.91979724347295 , Clip Len 0.626938775510204\n",
      "Clip Vol : -29.13288896567622 , Clip Len 1.207437641723356\n",
      "Clip Vol : -28.24661362828008 , Clip Len 0.7314285714285714\n",
      "Clip Vol : -26.16708789080999 , Clip Len 0.7546485260770975\n",
      "Clip Vol : -24.55296410058984 , Clip Len 0.7082086167800453\n",
      "Clip Vol : -26.530429023977288 , Clip Len 0.6965986394557823\n",
      "Clip Vol : -21.681723416014613 , Clip Len 0.7778684807256235\n",
      "Clip Vol : -20.88023055140837 , Clip Len 0.5688888888888889\n",
      "Clip Vol : -25.32013947034271 , Clip Len 0.626938775510204\n",
      "Clip Vol : -28.419576126361463 , Clip Len 0.7198185941043084\n",
      "Clip Vol : -28.77618982578752 , Clip Len 0.46439909297052157\n",
      "Clip Vol : -27.753948382534894 , Clip Len 0.7198185941043084\n",
      "Clip Vol : -23.02924210422453 , Clip Len 0.7778684807256235\n",
      "Clip Vol : -24.839713246767428 , Clip Len 0.592108843537415\n",
      "Clip Vol : -25.4234562831575 , Clip Len 0.7314285714285714\n",
      "Clip Vol : -25.305479737515853 , Clip Len 0.6733786848072563\n",
      "Clip Vol : -21.424978921911165 , Clip Len 0.7082086167800453\n",
      "Clip Vol : -20.082028389390096 , Clip Len 0.7546485260770975\n",
      "Clip Vol : -23.307916827613752 , Clip Len 0.8010884353741496\n",
      "Clip Vol : -23.704783007763798 , Clip Len 0.7430385487528345\n",
      "Clip Vol : -20.490174592058622 , Clip Len 0.6501587301587302\n"
     ]
    }
   ],
   "source": [
    "def get_clips_from_folder(root_):\n",
    "    '''\n",
    "    Get all the audio snippets from a folder\n",
    "    '''\n",
    "    clips = []\n",
    "    for i in os.listdir(root_):\n",
    "        if i[0].isdigit():\n",
    "            \n",
    "            assert i.endswith('.wav'), \\\n",
    "                \"Make Sure only wav files are present in the folder\"\n",
    "            clip_path = os.path.join( root_ , i ) \n",
    "            clip = AudioSegment.from_wav(clip_path)\n",
    "            print(f'Clip Vol : {clip.dBFS} , Clip Len {clip.duration_seconds}' )\n",
    "            clips.append( clip )\n",
    "    return clips\n",
    "\n",
    "root_folder_start =  Path('./data/voices/start/')\n",
    "clips_start = get_clips_from_folder(root_folder_start)\n",
    "\n",
    "root_folder_pause =  Path('./data/voices/pause/')\n",
    "clips_pause = get_clips_from_folder(root_folder_pause)"
   ]
  },
  {
   "cell_type": "code",
   "execution_count": 11,
   "metadata": {},
   "outputs": [],
   "source": [
    "from pydub.playback import play\n",
    "import random"
   ]
  },
  {
   "cell_type": "markdown",
   "metadata": {},
   "source": [
    "## Play a snippet of background"
   ]
  },
  {
   "cell_type": "code",
   "execution_count": 12,
   "metadata": {},
   "outputs": [],
   "source": [
    "n = 1000\n",
    "play( song[5345 * n : 5349 * n] ) "
   ]
  },
  {
   "cell_type": "code",
   "execution_count": 111,
   "metadata": {},
   "outputs": [],
   "source": [
    "## experimental \n",
    "def adjust_level(sound, deviation=None , default = True):\n",
    "    if default or deviation is None:\n",
    "        return sound\n",
    "    else:\n",
    "        difference = np.random.normal(clip.dBFS , deviation )\n",
    "        # print(f'Original : {clip.dBFS}')\n",
    "        # print(f'Deviated by : {difference}')\n",
    "        return sound.apply_gain(difference)\n",
    "\n",
    "def sample_from_background( background, clip_duration_to_extract = 4,  multiplier = 1000 ):\n",
    "    '''\n",
    "    Sample a snippet of clip from supplied Audio\n",
    "    \n",
    "    Args:\n",
    "        background: `pydub.audio_segment.AudioSegment`\n",
    "            Audio clip from which a snippet is to be sampled\n",
    "        clip_duration_to_extract: `int`\n",
    "            Time (in seconds) of the extracted clip\n",
    "        multiplier: `int`\n",
    "            To work in seconds instead of milliseconds\n",
    "            \n",
    "    Returns: \n",
    "        A clip of length `clip_duration_to_extract`\n",
    "    '''\n",
    "    total_duration_ = background.duration_seconds - clip_duration_to_extract\n",
    "    selection_start = np.random.uniform(  0 , total_duration_  ) \n",
    "    selection_end = (selection_start + clip_duration_to_extract) * multiplier\n",
    "        \n",
    "    background_clip = background[ selection_start * multiplier : selection_end  ] \n",
    "    return background_clip\n",
    "\n",
    "def overlay_clip_to_bg( background , clip ):\n",
    "    '''\n",
    "    Dub Clip to background\n",
    "    '''\n",
    "    overlay_point_start = np.random.uniform( 0 , background.duration_seconds ) * 1000\n",
    "    overlay_point_end = overlay_point_start + len(clip)\n",
    "    overlay_point_end = min( len(background) , overlay_point_end  )\n",
    "    \n",
    "    return background.overlay( clip , position =  overlay_point_start ) , overlay_point_start , overlay_point_end"
   ]
  },
  {
   "cell_type": "code",
   "execution_count": 112,
   "metadata": {},
   "outputs": [],
   "source": [
    "## sanity checks\n",
    "clip_duration = 2.5\n",
    "_sampled_background_clip =  sample_from_background(song, clip_duration_to_extract=clip_duration)\n",
    "assert _sampled_background_clip.duration_seconds == clip_duration"
   ]
  },
  {
   "cell_type": "code",
   "execution_count": 113,
   "metadata": {},
   "outputs": [],
   "source": [
    "# %%time\n",
    "# ## check the goddamn speed\n",
    "# for i in range(2000):\n",
    "#     _ = sample_from_background(song)"
   ]
  },
  {
   "cell_type": "markdown",
   "metadata": {},
   "source": [
    "## Get Clips with me Speaking something else\n",
    "Otherwise model may cheat, and only learn to predict when it hears the overdubbed audio"
   ]
  },
  {
   "cell_type": "code",
   "execution_count": 114,
   "metadata": {},
   "outputs": [],
   "source": [
    "negative_audio_path = Path('./data/voices/negative_examples.wav')\n",
    "negative_audio = AudioSegment.from_wav(negative_audio_path)\n",
    "\n",
    "# get snippets of negative clips between duration of 0.3 seconds to 1.8 seconds\n",
    "clips_negative = [ sample_from_background( \n",
    "                        negative_audio,  \n",
    "                        random.uniform(0.3, 2.2 )\n",
    "                    ) for i in range(200) ]"
   ]
  },
  {
   "cell_type": "code",
   "execution_count": 115,
   "metadata": {},
   "outputs": [
    {
     "data": {
      "text/html": [
       "\n",
       "                    <audio controls>\n",
       "                        <source src=\"data:audio/mpeg;base64,SUQzBAAAAAAAI1RTU0UAAAAPAAADTGF2ZjU4LjQ1LjEwMAAAAAAAAAAAAAAA//uQAAAAAAAAAAAAAAAAAAAAAAAAAAAAAAAAAAAAAAAAAAAASW5mbwAAAA8AAABDAAB26QAHCg4OERUVGBwcHyMjJioqLTExNDg4Oz8/QkZGSU1NUFRUV1tbXmJiZWxscHNzd3p6foWFiIyMj5OTlpqanaGhpKioq6+vsra2ub29wMTEx8vLztLS1dnZ3ODg4+fn6u7u8f8AAAAATGF2YzU4LjkxAAAAAAAAAAAAAAAAAAAAAAAAAAAAdukrIZ3ZAAAAAAAAAAAAAAAAAAAAAAAAAAAAAAAAAAAAAAAAAAAAAAAAAAAAAAAAAAAAAAAAAAAAAAAAAAAAAAAAAAAAAAAAAAAAAAAAAAAAAAAAAAAAAAAAAAAAAAAAAAAAAAAAAAAAAAAAAAAAAAAAAAAAAAAAAAAAAAAAAAAAAAAAAAAAAAAAAAAAAAAAAAAAAAAAAAAAAAAAAAAAAAAAAAAAAAAAAAAAAAAAAAAAAAAAAAAAAAAAAAAAAAAAAAAAAAAAAAAAAAAAAAAAAAAAAAAAAAAAAAAAAAAAAAAAAAAAAAAA//uQQAAAAs4NSOmJGTBRQTkfJSYlCUAnP6SkxKE1BOc0lJiUjlpZJJSSdtpgJ4jlwKHQDi6ESo5EkMwYsO5oRBxYjAjpMPhg4D4jHHFhY+IE1nwwfh8QLemQD8+cxGUOB9R8MLPlyjid5Bby6nE8gun3kF07bzi6cPqHOE5SXZmNAERAJKTcA4AoFhQuDgRDa46K5BE1h+kwYcTIAMQFwIABtLDheQKFwIcD59QRfqnw/5+uHymXnCfny+t4fISZcc4vPkMup29mnz4YXyAfv2uygQTjn/9A6CQmBdYdBYWQqExoJMOZA56KXhghNtpsAZMjP4spp/a55tR1VmksPMDhzFzyXyNhXFJ3IklU3XnitKf702kVRpH22aoIAEqbbA8BJGHQIIh0FCUSrJE5Ask7kGkz7XtYmoNoJyhBrTlWLve60mWzJhhekYB2zzx4xKZVg7GiiXzNk69Nt54Xv/6j8VZKiYBpRNEkAlJC2tDQgwicuHlx9o1hhFIMpEMBdTIZFKGp1LaooJLBWphmpMYZd//6GbanVLFDgS0P/pRZ//uQQB0AAiUJT2mJGSRPKcnqMGJsifAlP6SkxJEIA6d0xIxSahlSToJFi5A8QGffSqSknbrYehKAuUi0PyUdoD74aSjFLgkh+TT+cI9E/Uo6eiueVVZP19nSqmSs6X//9Ojfra3TPZP/vPnR2vBZIDB+zxpCiJkiB0HjwUhdpRNEokpN3arAkCY2H0BOAqAnNI8Cde1hITBw0pkKD0zNjnugMuLWLNrGEDjMfvJ9C9kf5WSUoUMuCTA69iZY9PA620o5v3rgYakk0TnDJqshtAAgkpC2lYEz0VheP4ZJnARIkaLjGtgs2NQYvtd3mN9aWNiFjw9R//9lgUStYQ1pbrbqsR10DSRmmLmzjBIEhYCQlxtokpFNyTA0BgjBmNTDb3kAshduRBhouTbVPLq0hdzhpRjj0sV3dV32937e4h9aBVRR+abaSTQqruJKFUtKiFBGUaUASUrbNEodLgxZ/HUtAmCHO6zgicNcdHrYp5FUgRzZdufQh40+LTCzy/1rnWCqxRiXLoNuNBRjaEIS9n7kfexbSVitcMJOJokEEkEb//uQQEiAAhYJUekpMSxG4SnKMMYkiVQ1NaSkZOEzDqb8kwkkWweLgobDoNoyxOUZZblKJZX5hKHxwTBU6+dKn2HQmuXYOQH5MsTe6dLL///cK1vHJCpFLRdTIce2ly3f6TrXrNVqh2EVTYhESJKKG94dB0IBsJA+FUyMIsNcMmhqMS/+HYWxlMFJbojESl97zQQOgFLR9YYA1qz7rf/9ZLW1yFXIzzxbkGrChQm7/WN2oe0UrR1aKSLRQ/1RHESMX3vdDLZllkuohELUPflmU1vt8DPS1ffX7z6nJBzqUFggIHkUCiEAKWnAPXe///QLHEqvLyMSUqe5zjG1z2d+ynmkwiPbdcRLRKRI3sIfCJAL2z0Sy3QwIUTiQXvHaO93RjPluzrfxTv9zvq+xMEDoumOccJjzZ8qKuvD7j7//9Ggy7VJ8uoVuyP/+MqFUiM2FcnA2SSSSSNqPZLOicLDFDH48mQixto3E7jt8URpCiM4pCYjqkhmY7uEHcdSiKJKJwqlIIQ81LXr//6QhWsFDyw971VORHNin2+zlwmPOrHy//uQQHaAAoIbTmmJMkhMw6m9MMZJCex9NaYYaSE+kKb0wxkkSlskolIobUpj6vFATOQoJp4Yx1BamSzcnb72ctqtmwuqnt+6lXKJsPhgRq41qzXZAFhYPIUMe4OP///daygKHHbNtBl66pf9hxLJWtClF4ZC0SkSkSNqhi0KYR8OBCYLrQ0lyWYSCSiT7Vso4w80s5PWzo6+3R76daadCCo5vZjA2XMGRMOJGXhg2NsV//pqz7Q6KC7dxpKnFabWrZ8KV9k5FwoRqlcRJRKRI2pdH0eSqMC8SiAVzo0G0dDLQKOXq6qH10GnIaN31/G/C8ebMRGkyGKLJu2YduUVZJTEnY1H//xRpt6y/uwLFhdlDERdv3RcghmkmKFwWrrMZJIKRIuofCYDAaBACyQBCIweBCXJkdSu+784O+4Yc5R6VShu1mbNBepJkrKopH4Tin5RX7+6FcsKhIRGHJd//zRyq3cxFIoNbv1Usdv8e9Zmp4VPgFJlxkkgkgi2WBADWKw6IAo4WPD0JLmW0nJbFtZB1JFrParmEXma746Or0eF//uQQJcAArAeTWmGMkhUxGmtMMZLCvCJM6SZKWFjEKY0kxkkAIgahra+w3OKlAuNFo8ghIqx7f/1JixYitTGtQhwFWXQzKqR/qMi15NimPaZbVKJKRKRI2sQRB0PgFJgBGxGmQPBiEQSMfNYiBoFOZ3bXHI3dN2NbaukoCASEgQg4cJkPKnutzKWBAgdYl8qCkr//011PhuuNp1y9Mm/d6LWPJQm9gPGlROFokklIkX04BwMngFDQwC4bVCExRA7nL6E9r+5fc7vzYXvra+32toaadr1AHJA2th+FyvbMvgfCY4CG1sFr//9COgaLJ0RU+96VoFsqn/oFkKDkIHQEYikKRJIBIQunDMQHzYdxeYHR+hMYqSRPiSUqYypTrfLzX8bWrza3j636PlYfSHK+ObqyTZlgJDwwRicUGjxZuAwQEyks//oEwQdrspsQSMN6F5D/yKxdYu5SO5KJJBJIF1wTh04JD4hoBhdwRSKGg4zKxHJl873DhVzq1ZoGKyxvf3gk/Q9VYmHqUwck7+DFx7UzqEGVgykYLhQ6A1//+pi//uQQKgAAr8hTWkmWkhXpCmtJMxJCxxzM6Yl6SF+kKZ0wz0kX6W02h5jJGLNHKI3MyitA9hd5JYq5AuXGmVVQAq8Tmo3jgwG4RXEgiOGmTEF1ijSznL+Fun22LYTk03WRa88XSAX+KMLjgkdAyysFnqWbYAyph5n//qjWPTFkssFbkX37akf9Mi0mxY8wxuQCUkkkhtrAXyBEJBsNZv2OapRA72+K63Gpm2MTfWqYvNduF2SIubI+Hkpg1BI52JS2zr4rADwNgZmFkGh7Fo//p5GKPql6HCqfTeKqd/elocxE9ZSpwsklEkFbayExfQRBOySVDo/RCzCNmAwrCyanuZpAtS+L6rrOs7zW2YWsmEUbW4YV6dK97qd5tQTeocho8XFUZhvvuYs+TfSRj0y1h045Sc4lQx3Q8k7S3SWXSZXa43GK7CCiSCRtWhwInTI1JjZ4iDDpI1KHr+n8V1Sma41aFfESntHxG1Y+SFoerlRCMYBBs7O0EzozSdhNrR7DAiX//lSTBjGucnSSdm1jXkaX3e9rU1JBgR49I5JEASQ//uQYLKAAo0dTklpSkxWJCm9JE9JC+x5NaYZ6SFnjqa0wz0kCRI5NRwQQOcPaVSJFhkzBJAFONrssvyjKsRjlzIUaI+0n5R3MwgAsdkURwFUNLtwtpNVgy5QUW7//9XbitoAMIbkN1qf33bkC6hV6yjFroRSJJSu10j9dsJR7MzR48n/2p9+/g6GVtpt7Zg03rWN2+65uLIWZ4W27T5DlbzkMp1jGa/0hV3vesUpBqHjoNGzfxqWXv1jKnD4eQhRJd/USKorWv/ShTsgeGmRxeWVVSkUhbLj8LzACThqclYSzzREnpQYw/2SrRZvDy11uviks+po14auxEipgEaHmS1QwlSph8J2Ryl+vj4tjd8b+7UkQCALgsqcu//Wg0XFzcUvc28qSvQrFNfvlRV4WQYSksEIzpm0mm0mNqmAoKg/CgQBsTIQDJR0ViTvTND1SDSHLBfwva8K2oOLWcYy7BGkE3qTNaE1T8x7Q2hwlKpEDlFAqLGybSw42n/+ip+cGvKkLxbQ5t7GVIZ6t73KK2opmXWYlEkXVMFA8GQQDFAr//uQYMCAAoceTFGGSkRfZOmtMM9LDIiZNUYl6VF2D6b0kz0kQlJgpFSVBa0kAgyrLpGIjfhyZ7vIWPjM14cZcGGSY/PBYFehEHUSa19fPz9/VZhwu0qGCp9A7//Q6/Y6+xihxxSGUKVUtm1Di5x7YsofGlRKLzQ02022x/vg4AQTgahxhF/zJvWvGCYNcw7nRVdxrfcVriZfV3GhplTKlDlbesJWOe6FJ4dtzX1ifM2Yt8V1NmLZAlHvF//8uqWsSGF+61yGNjen2+ksTWLmEHybqCIgkAi2cFAaMgHeC55YUEmOXdyFgnFJcE9xu4s4ihNGIGMmhZaKfRSO4MRFkQKxZ45IKM3a183SbOh1J5y//7rGkFmib3jGmjF4iFe++r+09bjbBHwVoqqBVgnnwxtP8fu8ETQHtpv/6d1+3JKJGaOMl0M4EKeSTVQimJcuHmRADonsFRsNOa0uBBQiFzjZxBMUQpP/+4gLyI0dSKnl6FoJVjm0f6XewOmXk8WyUSUSilbqPB22Lw+dDwxAycQwDAbMKkDjE4vehu7nG4Yh//uQYMYAAv8kTNEmelhcxQnNJM9LCrh7MUSkySFaj6ckwyUmkj1uHl47JzYeJBHExQxFOKAqdV9zv/xkxewbBhINnBVCHKDuVQu3dh9TW6FijhDXe0/E6nFWteptuVQw+xImkg9UTqkEJJRSJQusgYCoMSAUKDDFFiinjZSc41FgN49rq5dl/7P2eZmlF8dTkTxMMB+phiG+HVU9o7IKgo+QEJFQDcEXMN//50XY1hWxbUoA6lOR2zyTpK5uXQiDYqYWPDLxbBIgEkgkgi1jkPYiBqpEJSJQViWspMu2RiMwDmgPiq1HZzMXI2N6F3OVDxjmFSLJnLIJ2bzNT137S+dfMnUXgokm4///SJLaxKuo2BVjRLK4DOJ2f+ymRQA2AHBMRkpFNJC6IQ0tWLJPQEO921oRhzxCcrD1mCUBQIAGRAvOV/x3AyCwAhQYI4mB4uStiB0sjnnsJQ1bLq9KJXKtla5Jn//XGLOPUkseYk4iyhFhV3+vRpYQUgSghiJJJJKRQldQ+JYxGkei4LBbZkgULDwVJeShWKwx4TStnOjN//uQYNAAAy4lTOmJSlhfw+mdJMxJC1iRL6YkyWFslaZ0waVsNIbklLKtLP6JRJ52QlDSNtlO4eqvfi+zT3J3iguh4YJE3C3/8TWGTylC6HLmkKW/Pcqz/qfYMQsmSk8TBJRSSQumEIDpOJwToBFKl1FCnHAXoGGUSigIMDChQgscGwCja3tc2lhmJyg4woceMDyhA7pc5rGv0301ftqbHpa9g0aJrf/+pAEPRTOSl44QIOiZjGKVXd3p15hdQePGfnVaKJKFs0PB3EQTjYvlcnvIg2cUxCGj0iYVwYeH4oBBFTTOIErqEMJl4nFgXfan1KqQoAQXJFTYKgyJRI6JRzf/6VYzYitPSmVoVayxVfuFWTyCIjMoCtQZLSSSVusy2DUljgSBpL7e8YlTlL0vHAkhZt335MYZYgw1SUY1NSfBe5RSgoaTYG3RnXlK0pVbFCAccF3CrEziNy7FwgjXRUgrikTx2oktB9BSgz/OCNFA2LkRILhFwkklElEy2QCcSBPEomEkShgOzO2FyFQPomR4htnKUYWYcW1E0KORZrXK//uQYNCAAu4nS+mJSlhihUmNMGtbCth1MUYkySF6kiZ0wyUs1dBJHWp1iAxI5GYujIW4PJBciUKEWR13VQnUuBSuzc0kza1iUV3mP013pSld7GnxSS1UEppNJXa4IjwwFxNHUsFzAALn12Le1hgTIBGDMD6p6lKc9NG3PYqLRK0+ULpHJVJC3u/mVGq0CAMgcVOGQgCsx1FTCFVlNU3aqOKlFVpeOv6aNO3Ulmg22sSltpUVJSJDjkOsd98nihrcVx67YlCENMXXZXm2K4MObsOO7HtGki6pg7cIopOkDlkjsODm6kgcVTXRRdGShSTbh2vjb7lj9CzSH/66FGCDX7L1DnA60wSxl7PqensiY5cmu01pJptti6sB945lsoKR6hw5q0wvCjNS+55NxWJw/iI9RRo83oXmw2u+TIwOwRKUpGdHag643bUXICP1KOMR76VM2n72V93b/+o231VsJTyz5OL2IMoWt3q2pUsa+XExEFlZqKSKkrwgACD+DUmEVEHlGz4WAhyBJx4WMMJkBSRg1UHq5NJ9mvow2DaSLAe6//uQYNQAAtwhTGmJQkhcxHmtMGtLC/CxLUewy2GDFyZ0xKVsmVUe5CFxmNu0zNGzRjM902IGCAScsW0EXVLGklHR8UvNlnU3MKNMUr3paMf66V5+7i4MChTbTbTF1+LoBACd2IIlC1fMUF5IEbJaWkSdziZlR+UpGGpLKQMHORBzDDhga1EQ0OZRZ0lgwNioOv1RlMUsBzwFNv//vRbJh3j0AmlJxRd56mYI/j4CcTYfFVABYIVSSSQ41ACBkShIQAFeyIEp2bH+CCtPymFLNF1Cl9lKNfpKsZE6z2oN1SSieSXXMZBqlYd+N2gnDy31C1k8jCD+oAw2JzJJLf/6D1cYlLHj7CIjc5LH4xln0vre5g4Sto0wdhTacbYuiYaxKBrQOckqunLRIy25UvVSgcw9EZwLmo7kwghLnHoBQ4iAgGsSTCQlEgF6YKdqpsJ2gRIFUg0NlyUcjjukOB7f/6DqBYZyLKa4X60DRiV9X+ksxqDxcJUFlKSJEssIwsWDyOacRXCmnkUhWzawUio5jfM/KDobM7ApUkKmYq7zSiht//uQYNYAAwcpy9GGMthd5TmdJShbDDihK0SxKWF8FiZ0wxlsac+KViXstfac0+O+R3ZqbzhXW+P//6COjAlkkLYMXOVdY3pcimfPhljCapKbopIpJHttYFg4GxWD1YIkhwWWsltIvZ4uRywEiCWYSm4/LuExUqJoLGGQow0MWNWkYpNyobKs02aH8gCwTDoKJIizfGHr9ilCoFXqtHOTWKT1lKrU2l2erfJy5pS1gCZZaiUig42RCEASR3GsZJwnIy9KK0B5AA6ELyUI4RITDUNhhBFF0S2s+s0UXpQoyqZ0ZhIs06OKaEWzd0nPft8ezJ3lFColQz/96WdrSFCUU2aNwye9Fd1hZO9V+y3pNpCWaIrweEQ2H6Szi2HUzMpI5yMqLMkI6g2RCwwqthGdQTR7zbbQVRkQ4xFkaBVt6heuZb2sXxkqo1729q37K8VC6gcQ//9B2SFRk0sWmIkc/TOIePca+9Csq8gJ2gmsKrlWqSKKEshFJPEUopRkyARPRk5RChVNigVh1VlCjslXbzCAqzzC4SjiWbDy9Vbtj9nA//uQYNSAArgqy9GJMthgRKm9JMZLC2yxLUYky2GRFSXoxKVs0FNPpTFOXZzxDZrNrybNnH1CBLv/6Ku5g7c0VjF62NPED2vAxVYcLkFIW4YarpNibabbYusA4jmRCyFEVGr8dUSs8soF4yiwcPN6DCZIYJtzWXrr4GqRRYcPJZOIGxnDYkJoZrSnsrlEbirr2g7c661+9qPhIu5H/6LrMuvQu8Llt6xQLrW7qqSKrdiiAIKDB0iq1ElEiR5TRMj0nOJRqI/zLNm0IoIcAEDEQ2u2SNIo10UGODA01Y+IxObZJ23c2bfnFXsM5yqQa76l5tcvhRQnNhxLnf/vDvel55g9Kj1LrbnXaX+mcuaiKMVC4gikkk0hLGhqH0wKYkkEkGq+fhJK9CVghR7EkR5KcpYKBBxJjQT7oK9XEaXSir+aRKBdIkLqMse1IxVWk9nypplZprPKDsMF3//ojbaf0uC5laASYFqo/T1pArqBy1wVKiVCUUkUklJZgSAyMR9H9eIwKd0ZO5+omll1KctOXvbSczDTnZCbBE27yqM+IXuz//uQYNeAAvgrS9GJMthkJWmdMMxbC2CfLUekyWGHFiX0wyVsi/2n3uSre6UMZOMkX4PLB8gQMiRT6D9SRzQvZXPq21EilSzT2Iq1LaAtHMOlxZrEFTIMpOhIAlaU+ZH4KnIRQSBFPoz+NZ8myzcHz1yyz2GI6oIy2yRoHwbbLPfSyF2G5xXID7MwUb6j42aWEqFbKTReE8yfrqtU2xrjL3f/9CHxXHsGnW+prE//+CjCRdk0pFJFJpCWIQcBSP5GHQSR5HmRk0YRVQ1hYXPmlfaihqKBgEDAqbiwXAAPsGTI6YdcQ9MEzBLCSrUB0QowoNBdYXKIDP/9NkvdZRoeehJaKc1pnL7LQLEpi5oYZMmbcjlkg3qYK9qGBMhDJYjNCI84SIvCGHlECAABAlAaDLTBSCp2nSbVVGSMkIWkRVCDkVTc5zXddVjlnxyGKarCU2m9ylMQFjf/+hNchqi224iTyrIFE31EbhcuKmlmEQYAhkVQEkkOJCHMaCMfjAtm4AzhmyB42KRQLiBEsPqpXsfnnHFENEVAxtNtY7VIJczc//uQYNYAAxEoy+mMMlhbJYlcMSlbC3iZL6YkaWGJFaa0kyVsGMe062wpVi3UEGK0WKaFUHWGUO/+qZfcNUELhiTyFh9TXhVTDrEN1I63cEhRofNVwNNJNNtMXRsYCcRT4QZ0t4p0rKajI7dQrXy4rXIwSLEqNlYuhoaVXNmbTSI2CtfJgMJMcWakRMyQ7pm0pyRp3kq8MtDqbkSAaFHhr/96kuWlTjKVtoLj2DWurKHVMrZ+NWhIaERlKiqskpEiR6LxnUTy7awWqzElWWDYMhyRpAL7FAKCZhrZXITjRY3fZH5EPYXdjySq0OGjSoiahamWG0phU1dEgUywPOF//699WsoJ1mQk+1xihtZtv2WtQekLaA50Wm2m22Lb9BcjAIiAyuzfo/ODc3MvEZlttAy2hQjqmkzc7VsCEXcPElnFumhDBOOevpzNZcHMu2uTKP2U4SSeMKxxgl/+lA9VzRVFt9K5tNbaqz+UuXcphFQbLhhZgB4EVJKJDibGlIHIlkspg1OkJC0ZDJ2wGFwMKDCGFybRTQ7BzCaWDLMTZTR2//uQYNaAAvssStGJGthnBWmNMSlbC1SjLUYlCWF+FiZ0lJlszduP455gLKB1rlaS9zatFRdhQHgXB4QHDLF//6lsV3byrV0Np3JBZtvqzTuVDsUcTBSKbSEsZE0sD+TR9E9YW6KIVklv04OJwaIokYZWY6xzYuU01TsuIk7ewo8HQgmKW922pKMxB2c41yLpbVcv2BQVQV//1JltrOLj0j1DsfcIW9qlKsQLnnxg06YmQlkkomWsujkUVxSI6YGwK+MqsmS9AWGiiCA+eVkRnLv1JZ6Gygik+5k1rKubvwJun7U8ajM5/paRpAKkGmRGbWnFmJxcqjQo/Yt5wWjUlzJJr621nhK72tN9yRW0WSoVDFRqTbbbduvIbmnKQfCMbPmzC6jB7Y9SeUuoqsmkuA8xxy9iLTlUrmvJpYmVDiTGB9H31qNBHdByEFI1uo2zoQngs5FlCGbWMxtxc5KCxC8isWoKGyy1dHX7C7KxrGAwNLIJRRSRQkcIeCUVRyOjcmiMOyJKNME4oEsALLALCA9vRx8oLxGk70DTh6y7jdRK//uQYNSAAtEmStGJMlheJXl9MMZbDBiVLUYkyWF/lKZ0tKFsz4RItBDcmMJy3KyL77en8slXtKV2csw93/4u2QwgkbIRiYZfZ50W69SJZ6SgwBtFgxLIzEnG5GxdZHEdyyJsRyJ6pB7sUKRfDNhB655NrSVCQGFhg0jg662dQUQMk0lCVQfKk2miBcognsILXOcr3+RyvqJF/cl7SYUr//uaBXIFfZFEnnOoKrFkLa/F323Pmmixd4agOSSSHFg4DlYsErLBSfmTjjkmRVZVdCLqNnV28mokuscUaZIGilxeOcymXtc4UJDaI+6Kh9jWtYPjYqi6xupYsPMnP/7HRRzdlUy0UHFqXhuhD/7lDOlrEBVzGTVSJEbkbG1uJpPDzOH07PH8O0w1+hzM/giWChKcEU9gUEAXKeTYx+6VJaFga0B9CyIhHYN2TDpX3Z42GmKU/0vAyB9//70qKCBrJgW1BEeKBDVrOOf9Op8VLigUaIBWeqkk0hLNnMIWq0OahwXQp+1zg0SmGgfFYoZ0xJz9YNn+25kgVtkm8Ybn9uqk//uQYNaAAwssS2mJMthj5YmdMSlbCzitKuYlC2F/Faa8wxlsPaZclCiN25SMRDZr0zTu1jI6aBylRwSmziP/zqo/bsulHvPhej3+20pbVCY4PtCrFQrSSTcaFshFEUIgFlpu/NEi8F/IxX3MG4Qc5KFGSIk8GX+EjW0QlWHGXRxEccwAByCAsYSMRuD6er2LaXPCIYDwuB//+JgwB8IOchyUmDzC/3izE/acsTKLz4svoookpEpFCRgFAOAE60C4MphBgA7AkC6bQwIAmVLKMvQZBzSPJpNlI455uYnb2tmANZb7kBSLEPNnFoeXama0N5qV3px8nYHgCKNd/60LBIkeKoUQIPUXakxaeSvR+31rAyKA2AqzoknK3I2LtgMAbHqoGpiBPYRu6ytnBDNFFlEFQZNA1JZvJrP7JVGSmoGQB0JOLByiYBA+tAqSdxE7UX29tXmj2UTE5K7/80ceBWHU5PUpmlLqJTUm4ul5XcCAKqC4LCcBBZSSSRI+fpIlWhSfa1UeSoIhSbZQIXoQ4RkhLBy6jHhDEi4eURmXIEcH//uQYNWAAu0rS9HpMthdJQmNMSZLDKCxLaSky2GBFSa0lJlsXS8dnVVmSl042x8jC4SxV8qqo46YTKA6C5xRv//Q9CHNUht02xQrWq00uwZ2LspOKqbFxlEqFabTbTFsTCqkBDNijQzi/jjC6JQeq0oNSgoYaSFl1kJJKidG2hSYZlO2kLbcnoyDF8GMIlnemILz2W5dbCo2h9+9o/ckyTGf/KH2pUhXHG+jc5aWvnuhtau54ixQzCYk25GnGxtUw4kEQxQ2HR6HumaARCQLhUbCxWMz6R0SBV7kMUwnSCdn5v/xv5usr7rcK4Q9TtoZXY2NNra5unQdKllg0fZ/9B4XUwRx2VCoiKbMXf1/t772iWTm85HGS2m22LakBsvGw+iG4PJUo6nrC21kN/PlkbArk8RPJistmj7baRCsdaEhBBtdOKqIWil5y3FJvZrIru2dO2HjBqZ+SsKkn4If/6r3KINrubaOXV7ilGi182+wIiSLAGgo222242LrIE1wY0dhjLbT7uu+8C/TvFXQNiosHhfjS2oyqMmr3tU+VLFT//uQYNQAAvknS1HpSlhfhamdMSlbC5ShNaYkyWF/lqZ0xKVsgZg5GPkmZ4MSkTUQOLNohhUMkWjwGjwMPhx4GQXOnf/6dv2lKRfJvPPlDYuTGv0/tYkapxNKJLjSbr6P6IOjnDOI0LZvDiFTONLkwAfdFoOCEhKZfJxZWlJrzYJmQ+jKHyvFsMqI2E/CqNq0s3UXw2aUMzMWaD4eUHL//oY0+PAMa08JyJ1EoAYVtWmOS/3MUXVOBhiw1AZAUcTjTbbH+lq6zJZDUJ1ZgsAA0xEdXKfFluYo04TwpGPKgPAkZTFsUigJij3J5eBJVqUDJEEIRYcXbXMeWAi5COl8tLR0lk1EFQaAgD75//8qpFNLSfOCniqozJL6Nt6kj6hYVhCW//23G5LPQX70DW0YM4iz/QqYcWqy05O9KmIhoyy4Vi7+PiXE6MSuky1Zy4jPs7v5EtwbETkt0HEnVRfJ0PvfGsydAoEHyhe4uRLCEMf/VEBIRKcccjcjYlkRUWMJuMQEh4ChVTO8CgD3ouBimM0qn27Q++mpBTu4xaGHgGVl//uQYNSAAw0qTWssGthiRUn8JMlbjMSlOa08a2FHFGloYZkuApls8sgtv7zVLFFYlBh0EUYC9x4lBuHgQ5h4gl5d/a3vd1z3zDLTVTtj4VNEnf+js/rFlMB1hJazTQIMCB//+tZxQKcsttlttG28bVCQpjdgplbO57GbInYJhCax0UobE+25SSK5gxDiBKCFBTMGCa0kkIjdkGtydn4YlncS6DiP/94Lq7qkoWfekB27D0p/60MrFxckiWk42222xbZ5YQz7h9FhwcY1d9Fd22yW33nn+VjC6hliZzjPBWCmkWHWX0WMnZAhwNBlhKy9mW/ww42u3KEzUZW9ze53XZ2MXt5FbOwRJDoqWMchun////o/b6yV2LT3Sjq+pHf9uy7f2RPq75kl1dRRMExuWSS2yj/6YcSY1s3tMR9Y4Y4X7aMLHp/Sh9mAELcEGyo8Oogq93fJ/YRY1exmmoUZ//lx7w+cJUmg6liWEhKL2KehVp5G1C1oQbOFGFwKJAcAg7/9NtMXStBZYyq1IyuqoYiN9UfphomZFprYzmJwbo4B//uQYNUAA3ssU2tYQtxThYrdISNbjlWZUay8TblLDuv0IxkmSEOBmATp/CvmAvi5JM80NOdPIgWhFEIwXDKYXChS6uSLepI8Kos1UWitdLa5dn//RMDN26mwQBVJUX3HyxNH7P8WWkAtuRyOSyj/+bEA6yWemjBwCiBdQJzjKC6bBAECIEFVkjs6YMzYVkAwcUPc7blmox7f/+hjh2oQETT3WMz76mrGvR1X9CBYSpaNCTJTbjbbkcG0qNVIQKYRcJCRRMeQ4KqgXccwFcvm86RKJNwcLobwySUgfi9AmuPofySYEejTZYEzUyncBdK25YDRdywnkWaS8+EgwVYcQFFAYwQfDAeYz/+1T6iQseJAqOHJCwiU9KAKEEjUm0//9pJAqtxtuSyDbeJz5MEmo+6FvCQi4BFZizGYhCPMsMFSAbcDpldNFYbocnGU5wSVEaRhu+LQRFgabV//+unQl1evr1XK/12jVtC5VImAZKkkkjkkgulVFwwB3tCtBNTZS8jL1OJAZeSq6Tg2lIcxcGkTQf6FA+SJMgOEfARsJSc0//uQYM8AAyIbVVMPekxK40sNBKlJjfx3Vay96TEtDqt0cqUmtUq5MpoUMBKI9QK0SI6RdAyyQlgkZnCLCFAZb3XSGLksVUc53MUqXZv////0q3dN//Tpr33VJpS79m/////1GYK0kkklto/Hj+m+oBAgym1u1tela4HFHKD9tsu3itYfhuUkG8ZluVJ+LShgwI2I08OFGwoeFw28HyIfpSpv/+wTyZg8fsz5GdIxUTTal0B1AJySNuSNi6abmHKjDDiYrOkqZd1rToB3YMXK4EdWyhCNagTJtqGURO+8bG6ftJNSrGbry+IPrL2htWlD2y5hDcpPIYRIsZbgIgwkRFkZXqTZTuRzqcXO6e2n////++rU6/vY9qUYv3zF1vb////+tRxANaTbbcbFtp6KEwgpvTf0TuzjhxhnWUMs/bq2tVzY9whvsqnk4p18+YQqScn02vE//zS02rPZ0w/mtnwcPzT//6E95mcsdSj+9yP2eLGnRegeYCbbkjcjYGr/KlGm06qatKqTFpHCeSOjao8yJbkaTiKrUo7jGEgkqhzG//uQYNgAA5Zm1esvE2xQA5r9JM9JjiWbVaxgrbFIFCp0czEufSYVzAhE1t7fs20NVbgepNDPbxfGmT9vQ15GKgsPuzOeYQPMBe5xATx8FBgSCI2OFJIsePDCpRBxkn////////pZNzHvXO5u7Kv//X9Pv5FgAm25bJLIB/6SCmff/uacYD6QwWqR5cFSHGtc0fsTLILa1pE06kozjjgIMUZpeZTma444cFyiLi412Y7kqkn////////7lXQlnaYiMt6K/+uukqKia71rMeLq112kmkBriwoApbdKliq+o1+cls2sNbK89Kbhklf3y2IkBUJJIH/DmGh/PFgzu1AU3FK+j7KONp+h38VrxNXs6uhctyIrtltBAhZeSC0VruHkp18zq+AMBs5///96SYdDFwIljShcl0/FSd4gIzQBTzccbkbA/9GR8sEzb46wPujKcOABhRCH3CS6erM3NxLSa6QUkSTuNTr76d89bUZ6Rk0GHwDkQFxOKf///y7rVbjwFdd/U9Fcqs6HQICW+qykkQLcG7hV0DQynHKLtPD1FOc0//uQYNOAA9RnVWsPO2xZ7OrtCSVtjdC7U0wxi3E2FKv0cSVu2Fohwng/JE8ewtiSObLRaRUb7mHrlIxRFP4qXRCsfl1I9TH+uVOdsCPGi2takBzby8HUqIR3n0u6F6EeVpOUoQZrf6gruA2a+LYvEj2b///6WtaadFnUSXv+ku/ZAcsQXptpAbTDav//bdHQpRYNyRFtKCZT+UlUajxISm5iMbZblGVz2oUnXt/xlgQNMuW2EMSsvooHTT////zpLp7tf3aui4KFoSXU02kkSALOXkSjQpwsteZxb3JxLg6hwHHq7o1XrgpbHQ0oT1ZbOTxpTU5aLRYh4oGJXXKAGIBydCWrI4RvRUl9norfSFDeI5dL6GS4YUMGgNXiyveKsalzLrF8dHkzn///////JOebyNBuoAbbbSA/4Lf3g8TmyLTv/uci7oUcMHEBh2FgQPGpB8MEaLLTIk7ZaWRHuIwyHhFQ7qMldgBHcfTlDk9Bw+n///9xtIBa5gKpCQQKMdVqMUmJx4AHAJJAhKbaTaSRIAsx/hdqyMKtjUCnhsJK//uQYMmAA6Ew1NMMetxHJZraBElbjTy/Vaexi3Filqu0kplukpdaP6K0FnrXhOxqEWh+hMl0RyxVzG1YnHycqko+ENQQ/Khov8eDAdbZ01vDZ+9ecgX2xK4MLFxYUx1qKSjtYm5+jWn3wgoj///////kb9gwfgW2G2020gP1CPWeaj3+CurvmrK50Z+dDB9Comw14Qe1CJkcIWWK2H8Z61Fv4y5OJVAgYaPVNivcKNMDw7////jYJi5ZKWT4YOeoXfbQllrFwMy0kkkgNCEFMjuQtSdhqpZet8ajhNIjK4ozZVJzQtqzIMSwNBw/a6WM0JlBZAVkR0QzQHAjBdQHZGUrTt/Jq8qiWQt3TISxXeh0nqTYiyYjQqfULxqrdWiDg/TfkETzX//////3dV2LD4FhaRSJA2h8+Ev15LmsznhUUnOcb4wjXuTKUSGg0VaCh/Zwc9qclsXlD2nWr1K6hEzU/GitEJOOlOR////WHixpj4xAIvqX3MmXhV+FWmklgMHZaSSSQH0cABfDgosqx2O6OGINDka3aDxDV8fpaOGS//uQYMkAAzUwVensYtxQhbr9HElbjTzFT0exi1FBF2roE6VuwWAgVFAjr2GmxIVls7RioSjJBAu4OIMhmZBeDVsCQgEGaklH4skZApyHCSMxGHwXAKBDkgmFDQogsFIgRuNDz2GxOIIwbLOp///////////7/+vtNc/aealjrE1JSASSSSJA2gSVUv/1RkZX2qjoJBIYOEDmWI8qpKSMMsRTTRcHRg6Xkhm1pFWnKH0yKHBkosdW1C6iXfGJ////2gOerXrG2bfqi+94pBSqoBIAAkl4AJgai2FDiZe+MYrChquGtYf5cW89tSsiUS5g2q27eNcVhfIeFJqrBPWgmSxAXHiw3JAGkNi6wtORpVzNHrHprSBcoWFsSQ2N+M1w9nhagO0j0oVTiM5ifEf//////0s7msfVH0AgglIkokDZQM9vbzoZJJGIwkShQsexxb6JGulxqc6YdotY3LLaH0NnrXh2fv7NrmRKGlHHHM9R+jqJ84doPMp///+QXLOehCzqUDr6FUw1UcSRPOlghKSRKRKJIFtV0F8hE0TGumcL//uQYM6AA99m09GMU2RMxerdHKhbjYjBT0Y9i3FWlyr0crFuE6JBOWfYOKCNgmlxbKQ34bsdluESotw1GYpblL/S+gv00OLWrN3JYHGuZUYvIegjPYHan3G+tS/++bXq4qySiujsSu3lhZ1TNWVDXvtmkbYGBb///55eHn7RG3+j1LTD7giUgpCpJIkDatMBwOgfP/VFEivZ1RUcOAwqYWmiTCxkjxxkJbmBGJjz8qEt7VPrq5R6sqxpq7zUQdANs////q2HP3KR+/w8jHIZKRSUabaYGdLAU6NObKHh2NTys7QoWM7RprRomMUGeA1SpAuG5Iju7Eo5LnMnVeQM/nuqub1qkUNVYLIYxbDxPFsQKYQtvJQEwPAwD01SpYuaYWJC+ceRY1DiJxdxucDofIjxiEiI+cce3////////0dDXrVXVTGe1P////+NwASSlGm22Bx3oBQZViTiEfz9zxTLd8/g6KGN81/WWk3Yckb9SDOIDEcj5MXOXnB6B6MtPaE5U0WSqKZjEpL3GSuV////UsuwdQpus2DVVL0m0gKr//uQYMeAA6gvVWsYetxHRZraFKhbj+GXW6087bEwl2v0cyVujhlQcUAGu0wvfTMpgMWsL4NL8NAEf9N+T+o05NjTn4dVqp6z5TMpWEitLDmvlmecrkevYegBir4tZmQquQP0QBaCSgRQL6RDM1HePYppF9NBBaSZ5JFN2NUEkVmKB1NSkkVsh////////rdW/+3QV//////mAKIPpNtgYeolQDydRstAVEPvh5efJnzhCFxqV9b833t9BXlxSxhKmYmb7sF8wnB/C3v5UkGLFnhywXJXRJbz1rHn61AtE1iZ1v///oNOchUbY+5eoKNJJJAVSp6So4u/ECQ42xoMXEuxJqoBiwglfhTV7tsYu2/g/VDUzrPnq8cTAwGXrDPuicfSizgrlIxA6WISQFZHgD0MjA3uF0fWHEjah7q/xT6tGB4q4IBwJNFEK/////rPhpTv/9Fi2ESiVI244B96iRCFZMgpSt8/3yP7us1GIsaLTxVCTxQAqCSZcJ6YKoMDwsJgMUXUXTmQexaKHWRIkVBzCC3Q7U////////v7O2/T//uQYMIAA+Nl1dNYa2xTRdraSO9bjTSXV0xt6XFHsuy01BW2tv/////0xoCFAEhNpJpgVxqAUdiZtvloIBdTIte+zCzA+RHhIhF+SnM5GKSexm4rnGG2+Jz/WlsW7Xr6uS79oTGpNLC6WOMzKHqh6/zi3ROx6x3kkamAbqi+aKJxAdBKijU63WTlH0Vl08pF0UEv//////////WlWm/6v///bfO8cWCQFIm22BwwkllgKg68L+9NMJsLqx4lyaxHz779o+rk/UEpzabA4FpgHxeLbNpa43B/xu0cVaCoUAzHCQq5t////85LsTUfAC2L2gBuqoOtQTAQ+3DCCIvUz8QDBhVsQDE/sCBYwblh20iTUjn83RYPopKVOgjhKkBAKM1x/MqKXxGA13rcd1FgOCh4RyhgrdTDLRxgFrszNtfosdz2WePMLuOVt4oFgpYWSfOnv////+JL//8gulhwgAtpJtgcVaIa4AdQuMZwWJ6NX8+1z1K8OuDu4py/0XQKxBLBcIolBUItOxwMSGIqOXIoJlNMhmRqpdOn//////////uQYLqAA8pk1ms4a25KxFsNNE9LjaiPVSznKXEyKKv1NAm2+3Nqzu9x2S2gybJJTaTaAFUA0DolIcsBJpoAlUAZEGs7JbpLdwBmgncpnIkGL4c7V1Mtv2JphwIwsoO1GWxLGrGrkMPLK7q01FmMARCaylBcRbyPCBsstvxUjF7OG5PrXc6es1n//////61Em//5DJ4NkAJpJtwfjB3/4D4POQgCXjcnM4MPn+llIK5GgMmvTHgfbAlzkRLfQuqhYD3vZ7p4ZFzVBrmIox2///WWVqoNXnnvj9sMk11QkkkpolIgaJ/XKRkGg0yKk1gAuPOTzROCgIBMUkDDKjHRxskKBKefVMeWW4ApmQKl5F3so2iF4Vkus029L4zK49T2pDAzdjBADBUiUBSvEvUbnEm3rAMAAdmKRRdz57f///////qhdN0r6fX//+Q7f/////UQZGBBBBaSSUA4wb//XWJR1qpDAhIECpvjyKit+9Kl6JIOB+yOcGG1NsGz1lUB5LT1bVbKllvKBApZmeL/IqN/////a5HUVBkhWEAEZJJI//uQYLoAAz0i1+s5wlxIw7sdPC9JjtmVXa1krbEeDex09D0mGh3JCQ7COsYsBfEGBExIqAQhGS514hkwAMAICYQku30jjshqQNEnAjN1gbZgAw4FWLF4jKKXkof2lzdmAUfBIyl6wyw0sU2eBwIpDlDO4b1hb/+50s3f5rduf0////UeXaXI5+5/8EhwS//27iQIiNFJID8eoxYrAoJQcVODhaNO07U+3knYx/uoF8V1SbeWJXKW9Vmc/04poj2ppx02lTB8I///9ERoY3cy6x7pK4gC5eEklItFJID1UzkrPhHRohl4p6dBCKhkgLOTDyTTEU3wbkFoyICZ12a6/FZ42DTr/xKeVULmPhW/fiQ4MZ6wHST4vwXBAE0FUeaDKtzUVmdTu5tQ2ympo8FqiQvFYBIe///1kjD3hmaQEliYp/YNDn/+S5IAACSkiB+PQnPCeAoLALZJEPIeP9Jm60zqCO5XX7/eN1fxn6qJCvStsFtWz8Sy6du7Q5KxPIsUWVD513///aRWL1gQcXNUwupDUIFwk4o+gISSSSmkmgPV//uQYMEAA5cmVlM6wlxEY4saNK9JjliVYazp6XE+D+vopD0mKm4rdnWHuQoqKbLOLlJsKLxxtyEosUlAKBfBqNyUVbjszMBPUxAkKkaE2ICZDMnGJ+xskSMeChFyH6LU4qgRopkq7dlcP4mq6SRisbcWKE3Odcw5Zo9bRZn///8FlhMTFgtbOiq/fyxn//6BGCorRTSA/HoeoBhQHzOoK5xYDaEQ/f3fQnlnOnxvMSkG8ixVQDulZHp7q1SJ7EvgLSHZVIJEXf///VPdoucYUfl10KJoSWXSqraSSA2eL1Tb8lVmQEJJmKmKqGgtwS5olsKSSQhuAAycCz8tr4RBtYCV2zMC1g5Vd+6WTxmzIqeTxNp7poB1uvAqVzH1j2DpSqRT7+QM6Tca9LjWs8AKDh5rP///fgRCF6/WcF6AULgie/+lfAhkhVb0m2B+M/niSB4IKU/IXFkKOU3wlkoQEBVkVLwlb73bSBAnAoVMo2U1SMs48sgbrF9UdMEQ0dZ///57WzsTdrfZkDOLgPVVbTbQGz4wM8XFuqwPCQOtNAAj//uQYMKAA6UmV+s4elxGg7saHK9JjfSDXUzjCTEVj+yodKUm3w2xJCWpc1lYJlQworQyvcYajQwO2VIIcAKNjC23qduEUkRiTqs+TtXhJXqZvCXddiJVmvOu/TtUitpGA2joOYvHzqB1knUpb6Sv//////++hrb1v3176DMpdFXu6H9JNL//+j/sagnKqvuNsD8TGq4hLIMLdJbd7Ix2Gxsw4bdWA4IFrhq9mcWAaYnx1FiO4+WRjb2e0dw3l/rMStcxrHTQaKW////aheS0kzV79KrwjYOHcrS2m2wNpWKr5KkIp59U2kJQhVIUJ0cGmwwuVGlEDeMIRCE5H7y+B9gZQkgMY/4qxK0UfPz5eNzfMfTo+284VMm3cdfbXR2kcK0Ss2JE0IZicSpOs0bWeTX///////1b96NWyX2/qp+1uvtX//+ya1v6CjdKqCrTbbA2G87AkKIVOJYFIUM8nXSnKc2ujRfJbEZnh2kbbXV7YhSaYmnUeJqVveQazx8ZYqT2rFq82kM////UNQi1DXX8p7UuygBVVW23GBtPU7ZK//uQYMiAA99k1tM4a25MQ/saHM9JjpmTW0w9rbklEeuoUz0uvpQNMBuCBEEJg8OSzBFZg7apzLecpMtPiGpyC7SW06EKULYqy4nAbB5uCMSyuhXj2fn5Mhy5V2X066zKpwJ1KTo2EhSlWJYoUCh8GyqP//+5V6VNQVbqWyyrHsXb/00y4SYoWVX3JIB/+qzAEiKcjlW9bJ3bgGwKIV/N55nK8Srnp+1MDkaSn44kLVrJtthWP1SvYkGtmuDQPjw2YIAUU///0E1EojBINNpXcstI601oOdrPUOMPlRYKiyq9VtxsDae2ESA5QCNJpGOkVhpxAl0CUFGI8XMLEYQRDGc5/mdKgxpBgEpwqHB60nGsO1QlLRo1W5X1SIPouT9wWk9BVOmj3fTTbOFYw40kxTv//0BqQNoe+2lI1ThxA44SX1uf/zvcEVAN1W5JKPt7OTFARjM4UUhERsrt403C9pOEj8k6HSbVUdC6ucDx9eEJyWG2TWyV+rJytVyjZt9Mloa41csInkCNf/+ZQfHsuBIyHxd1qLf0//y6IsXAlWr9//uQYMOAA2Yg1lMYekxYZAsKHM9JjTB9V0w96TFSkWuopLEuyRgXTNrBFzNAE+bPE5BJSsaDrAZEzB7F8y14xp4kpp0nUAkjFH3DktWaJZnWWy3GFOU+bULVqPz1yAXXlqibaPTWi8ZtSqfaVL6Snp68pu2eBIXEEXCpJP//9zBZ7Wp1ul3wosVFENIFx9f/+AhqIITbclkkG+kuB6vFKiRGFSg5TLDDLOmiJO9ECpuzAsH4MDwvHz5WHElrLFiJZExPPJqIz5qLRIPAINIHephH//p02+kpDoElrXieKnGq/r+WpMCiqqrFJJiSbIBLCwAFgMRgGGAQpXWl2pjNfoCBj+MkQ0yCCvHNSHMPcYBsm+hsy6VNMMMA3d6zXagllTF6V3q2JXAVkHiq2SimOlrfu96UTYr////67aW9fT5/vf/vv//2T1YiovsMZfQOKrJJp228JwwBgm2s0qjyQMBpp0RvDnTNZsAyeyiNVDLF/ek913+psbsysTRPxfaCWNF0M6zkKN8+PXHGnAcmQdnkLNJmZddNSFCxBOlfoXse//uQYMAAA40g1VMYwkxUA+rtBSxJjQmTTUw8rblekCoogzEm+gRHwhFgJWVpNtMST1HlB1iNeURHBs7BiIuo4vWPw0g0J2SwZQJpLKtXIWwhTibleXs8VOyQWA6W+yFqa95pUtLAUzM2UvNl3WUIRweFBxdx8s9DEMN1fs1lddlsiK////7z59P3N0R/17/bS39J3/1v89zlzselRDTVlrckcFtnArR/n4Z3OSlORu2gCchOIITedu5A8SicvshvZvs2GCxeuW3dSIY1vvRsl2iWOaNWafPOU2fDw+aD4Z//y2haBdcciTuo+9/+2g4ha0EIugAAzUp/FGEF+WRTjEHeCSN8pxFyRMQuJfTNGuxCRrB56OF2PSB1FvvKb5zCZ61nAyAZE2ZZQCNKBCKTKsZtIpFFIJ9Wd75yhSRVDUuEhCi5H/6GgF93Ylz6KXKRbV/k+QOTAsDMPCstO242Lb+3u3NYDIGntuA5EckIy2In5eeqdWYOXOhDklPTuNxzFnVgulyCfLrrsk5FDSCQXGDgoXTZMsd//pJWKISzyK2i//uQYLuAA55kUtMPO25V5AqaMSxJjMiNQye9KXFVkKoolDEmNb9RzY0jd+re9eEjzAcAAFVYpIoSP3jQ2pmLtxkC2ASZky6mrKdOQpihPYspuKMYpQUcUo2iO4AonukNtU+92QEVu23v0VEsb8FvnXo71rr0cwXDIbULtMIFRyz0Bf/lhcuaUgCyaD5a9DTA4Mlx6wGkd/DXcp8cSUKtV7kjdtvspPQQjpUHOLSCx4OJoQKFMn5mwx2+RAQaWfljA2hCKdfwUhW6ZZuGsA40Y0iMNuven1rhshWUIDxh21BlbeSRV+3S3/341A0+LEqK0Ukk3HpoqwTTV4qIwTAwgan8U7MASlhFeHp2PYMx7ERhjMjacjezaUTMDlo0SBMLn1lloNHCzpzyq1JF1P8sfFUYOhULDGn0bTemMrrIv8WvpQ2LoJCgXSALCLjgu136tjN4mFFGyrWm2mJL7OjX66g7U4zuCeoQo2JIsL0cF6swwWUndwjEcXRjGpA/M7aFLJ7pSDU20fcjQAQapb//TpVqL3Rd90WR/e9ushwXBlyC//uQYLcAA1MfUVMYYkxQhAqaDMZJjPCTRUw9CXE8DymolKEmwMMAgGqlrSTSDk9R0DRWIuaPK0ppFHoZD0dTCuyPUZ5CmBeD/jP3FhRoc5+KSAiEiPiVm7XXc3GRW5JCq89R9pFTyiRRaaU+slaQRHm1lh4WAJZpN//+pDZ2vbGpQQlJO1byR2hJVq60k5EKpB0IiqrWk2kJJ7dVJ4DwappRdDq5MuBZRAfK4k0SMF6RqRj4vKsS/S2LIlhlq9lcp2kdqL1X1ycxOLAiguHEvIONN//qNkK0nN1RgVSJzvFHrWFCTbHd7WoGExYSAEADhAEGVlKvbqERaY4UD4sbNZ1kHQf4fIakdpOlSehqJWmk/RWGWjWFcsTMKKDZYqi+41Yumx/EWx0IrwxF9tOIO1dIooSCeLAyFiRn//lGbXuXzSeFHsodu9uM82l59qgUFaSbSDc9c5oDIvcyHBQdF9UVHEfUdejR7HeV4X5MEDsL/2mzMsnT7NqJbLYBgwCsk5SHQRWchDWj3F1YpGV+/////7dLp1t0re92/195v6W1//uQYLyAA1kiUVMPSlxdJEo6JSlLi9CVOyw9aXF6M6hohhW2qjvRVrSqyLZqma7jwFVWqqlP9wQPYXeremAxuJT6dCNS7Ccx9gdAGsLg4SSLDdGlZ3VbzupRwmTIUCNRUv5NbHYVTUkGW1WrQ/z1sX8+8yEBx8IqZc3/+gnLVD39wytuhcda9zUJyCFvMqQeQ0CvEqjTXptpBxzh6zvNaChy87M8RajNX0EpVdnWWlqD6KVLtBRADAtw6WFkST2xx4UionuNpxSipns77slNFBYMJZX//0q6b8mpYEARlbjxmk6x3/163FwAVWVlKslAKVGWEBcoR6D6DpC7IKTgu6WIAXR8p7wbQ1LMm4kF9CSuSsIE0kfkYl4r/Xb0ehJo0JpHfN5NTG7j6+SeHRMLtf//pC/ftXX1INO12Uf6ttankF5VrSbSbcmB+IfhWpISS067ufXC6ZlJLkRKgUkGKejbSeGQ7ZmpnU9bA+S0IwyoaZQ4Miow+Vek6+v3HX+WvrcvX1C6qXU9HXQjrYBRzgoScgscGCQkUnI5LINrtnxM//uQYLgAAxkiT8sPSlxUpMoqMYZLiyijOye8yXFPkSiowxkup113Tz9tdC5QVyNsjHDqZrpbk3jsrDTVeMZRmDKa1S2KerlLKuscY4ACs+9BOffLX6HaUy8OQY9G4L+w3qYx+U0TUKcJmkp/+pk6kUmR65tqT6u5HW79WxaGQG8uOJKJSTn/5/1mEbBQamQfdE10ZTs2ovGwhYDgANmSMuRF1imKOWIuiJ5bHh5hAPuk7I721P8iRL1rd7xA+GNa8AgfGtIf/qdkS9W3pqYW6z9P9OjeoixcJSSbckkk3+xdtOOUto5rs0ggEkid6tO9FLsW4Loxz1UKFxfZz7Ld6/lJgpJMccOZGi8S75udqzErkv4+X2dsb3BnAaSZkiwPBB7dKpnZHPQ1rFpresuhZ1pd6rrj6atHpWyXfKnRVPOzX19H+jiHokv6JxAK0TCz50zRMrCerd4a7ERrozqKdKjSTGhnoWE5zqg9AONYOg4D8ymZFGucMNW72rRHeh+wmXjv/5K2kwfQxKrwE/oOuSKX/1Z1ZPKBhIAVRWkkkhLO//uQYMQAA0YsTesYMthV5WocDSZbjPCVOaw8yWFoFSgkxKFuRsD8OosaFN6EAPovTpDjYK8kKta1EQpyrIxSUvh/iDZ5NFc7P4RHPierlJ/EbNeJ35nrbbnb2ZnZv6loPBgFL0f/3xtbEUdcWbbOVURB/86bW4WSkVpaUq1JMh6eEwSIFP3cREuGzbtWEkE4E+G/77Uiz4l17OPIbSCdIExl4bccLUcVom6wUtmzSK2Xbnm2TQUGBYwQH//1ZZd7FR63dHqTHV6kV1qvJTpYDEpEopxtxsbTTijSI3eplTJdM0dSOtYFWX0oYhhTp5rxWfNekJVRFZvHexZGnFh2yIOq17VxSrAEEwKuDLlqG4ClIQAEpOO4uYM+GDKP/xe54jLGaYVa4yfXsIFtRZ/+560OLpQViCk7ZbpR/vEE2AVAzjcvtGsuLU3JwNLIk1yRaPID4bVcpNNYVm00DeKlCdqzsJLAwvMiGRtQmx3VXhV6tGqu6nS+Na5gEBhsW//SJBRlE7N3WquIOQqdsZ3dYHoiptosFzZKoklJpJpC6NyS//uQYMIAAtIpzFHvMthYpQnJMMxLjIixM6w8a2GLFac0lKVsJqlVEcrifJeYyJZDQ3LKG2QgMEwdH79HzfrWYNgozy8EX5llnPX8sEUOuxyGD2ytJpaFMqPNMQ7/+lTlJiVr5qpLnjBx5znAfd37raHiwAvW1EUiE0m0xteDwQFdA2XB8hFmkSJgg05C/vGZREepNSB4q5OIJQNVveXYXmeOStOxamDs2lEtupShVRj6jd16t815ji4CPf/wkLm2VOalQFuFQoLhtZA8lpm9O5R+r4VQUOCOqFakk0rdGxEA5TeORuJEMk6C9CKAFoYtMgcuQzxCpplgV2cMJjDmJI/XNBs494hAzNobWIxg0MkSJKOQLCrNhVZf3stNBSzkLxRsVCgwNCwFiwxTf7up9xMqYxhEabbcje3yYDk9AVCmWmWJaIq0QmtQ3fExnRumNhBG6TC4LvR7GGm0maWEHwdCarDJoUOAgJBxYJmW3X9wo4WsDaGXWry6HijzTn7BcrMkeHNGhDyQsgOrKCjhZIAoRaiU0hLMFUoGVNvENVA9//uQYMOAAtcpTOnsGthi5VmdJMlbC2B1M0ekaSF1j6b0kxkkZ5IloclSfqeLcyoFXk3fsO27bJmBSG9vhW5w+5m9vuy3i2f0pIj1RKdvbYy61jDqdSDaNirOcGjn/+MgQ+UDA625s0YFMnba4ef6SXSbTWLhkPBVFhhEyJFktkH+wQCiWi+JC4UbNZOlYZ+bzkOhRGCWlS2OEY1xg35FhBFznuWMYORccwTjNVdlUhJupqZO6QV6cbjaws//9FAo21NyPKo7HC45Sm/1bnpOkSJIpVVkkkpbMpcHUqkwtJVKmAqiaIsQECQXbMBfxlsIIyBEeWBqMBePDsPB45FiFtaZeGmqhFip57XnQakLjhyB8OIAh9/dTQreu6+ZNhCipi0lnLvpSv+/Fr7yb6RqSpEESmm2mLrIdiMoEqSGWi3HOMKCtFZ793UN61TZO4DM6H1cH8vMxbS6H65YxU5cfohsJ0dKwbO6/W8cP356rbQiTnAqLkwqr/+hNlTE19GlB9LTJ5YdPXeVuoAwlvKFQGYSSUUSUVbYJ5DHugUHykeh//uQYMaAAx4sS9HvMthaBWnPMQhbC7CdMUelCWGAEmZ0xjEs9D9Afew9jKhKXpyY8ObgAUYJILFKJBCC7IFLBNAnQWpn0KDCQEZYIDIoMA49m808otp0kld61lcBdb9HYzJs/oylstGlkhauMpNJtPbXZFasQDoRDsmLxrHI1WYej8ROTpeSdwPpmXIa1OKOf2yXWHTxj4JmonWsCIbe8WDYSAKAUHhdhgPdAxF9QZDdj8shOmtQSZoXcoDtQ9nq8deXpYKwxBIopFIqWwgj0QFwemJ8JRCufYEojQEoiTHzipiXrRTPLgEQaBkkTT9TPewrezM40ZJUAg8ATAQUMeAgqH1rSC7WvwC8W2rt2GKNZQYnJrks+6Ms7tKV1qrUUcCYHjlUJKSKRMmbI1qQ+EEcQaFsjNrIxA6TqXOHmoplMORuWGBYlepTdM/zsznxUeexlCR2umYHHEjgAKgB4uAzAcmr+hrL9yrMbywUvXFQO4rxZrCxtjP+mtkAIAIHVaiSiRK6BiuH0DZFGKsOykRVyhNKBCLiILGg/SqFQlSK//uQYMcAArcWTGmMGchbg6mtMMlJC8xxMaYlCSFsjqY0wzEkilREKlZChTFGQI2MaXcXZH2Ar9GCGDyz2Z4JqIoeb0GGFiP//ZGtVrFahoqhRAzKtJHqyDvoTkoolaDYnJVKJRJKRQkeCDcaR5J5aHE0WYojRhjhSBw06OrdE06IocZg9klnTZgipEaUbCoqWUWN08ZQvytua39xlNKKWXd+1pvbyor8Xez/5c+9BlhhbCBhlcSOJ1MNsuU/99dBU8XWNKTpSqUUSJGujnaCnUKGnsnFEyPXM/FdENEMiqyriE7tqLfm4nTTWm5RZMCTIs335bXu2Rk1kZ+a1ylPzzWa7lmnYeoSJd//QoPFpyKWIZFBNlX++rxZ9e2uWTASRrESbbjbF1gM0RNWOwgB1rfBEhlhnZbj2WFejXTMiYUiZEdUD44kqBpsnA+HIsjliQHJ6DBdr0k0pA7SHGQjlQ0PEEIFwwcDP//WgAvFUS7EnGvdII3Cajv9caAr1m0CwIkySUiSUTJWXAsFtwGASGhuiNUy4y2NhgncQtIWipPJ//uQYM+AAvYrS1GJGthj5altMMlbC2CtLUeky2GDFaZ0tKFsqFMnHEgtHKdnnJ//zxXdve79zXra1RhAXE4aEz1BpoD+lKyLhCFCC73JzqUnCzrSB9s0SGFgKo4//pqDrI82MZccQKRSRQtcwIAuQEiUUAUGFSWOFm7xR8zWIi8yjAgFewNKH4GlNOTVUmwtEkcahnga9F6VOtc5T346Pr52uiyoQ0WBQ9f/9ZfPxM2Ek1uQzsiyiFn/zJ+I0tELkZKSaKSSlsKY8CGVDMcA6TiVgfYIz6grZDYhUXLETLyVJyrpyggcBCapBEeAuJFPYh2IwUakxmtYxDnGqAwQ8wgiNZRdtsrYq9J9jHj5MMUqPNv0Gkoeo567ZHSxZUChgWhyJNptti6eSQ1cCV470SanJMwkuP7lWm+13B5YjNEBVFUVWV5IkSrazTLyVSPTSHYrlHtXv2EebhDYKZKVSS3J4+3gEuAzLP/5ttCT5r5FljSiz5DB132aXljzjY8XKNpWmKKKEsbTxIEynnGQpUDFkaZ3iAYkFmi5A80t9mgb//uQYM6AAv4jS+kpMlhb5Wl9JSZbDByhMaYkaWGBlaZ0tKVsgkiUcMOtsUOIQI4A7RTY9pg6ZhCVSVrojLNGp8gdoBUPHw8n/9Y3YitGdZQQUjetl1ntoJB+XoLg3IV2ktNxNtsXSIGyAIjwZBKSC/NvDcVYKRHCs5HHmQoTCCKjklUNDCBhAph6KYKSOJao2w0OJVmtjT6e8krFF3JZOnap214FT//9Khd21rse7e4hoVsu9lPVFknqZVlVAJJkjuew+yxoXmyJQtCkDR2BKKgXSVNHr1Kbl6hNcjDDGG4ulqEwd6dVvYYxoUekQNzB0SFhofgUaocjuLNfsQ1BEOrOw4XbbKDEV8VlzG/7+xSDaLT4rpGmSUik0rdC4EgEAtcHDwKhcPDBMnwygwVGFGLMgzhyDF62YLNFqPF8mkD3saww+ISOXcImFaircT1tfvbscEhKgoSfzBZkgoZsCVyxyyKI1q7CKmODpjNXktXVSa6D9JmFoslEkpJS1uCoEScPpUORPHS68xNl25EjS4yuK29crjCuPbhFNdCNBJXW//uQYM6AAtUrS9HpGthbpYmdJSZbC0yRLUekaWGFlCY0kZksGpG6Luocxa5K+9NRnQKY4dlDoAoFFgKcPPNaH0EFHz8xAeeWkXJOF8LrdefF2utW7+lq/izACXGYUUkm0hbaAQAsVAHEglD2kyFb1akVTugMVrmECAofZGVVX21F2soKHhS4VCu5mhtdtU9KWVUF5IPmweEg+bHCQMg0dDrl//zgrFwKaWTRroSzYzObNlDqhwuB5EQnA/S4SSiSkihIy8NI1DmIhUaEkflillYMsWE59kdJyQ8urbWUnYWxhVpVa4l2lpxq37cZXOSRlBEoCfVyoFxzKqGVAiSTM0dv///9nzN7kf5WvvWlD6dq1bTP/e/+2/0V4NW2obUyU43I2LohC6+joXhBOiGyYzH/9LVVvMoymVLg4iFQAliXsjVqoNlVsXBcKKDo8ubBuaZyUWMXtJRmpaerJMVafTayvPpRGuGJ//pc+1jzr2saSmbJ5KnqUd/doW1pZAdAW1WkpJISvSMHZGJYbEMSQ2d4rEYXMaCsFzBBiFFJTYPr//uQYNQAAw0pS+mJGthgxImNJMlLDD2VLaYkTamIFiZ0xKVs6hik7DY2Nsgmb6Sm5d4+U2o7deTMio5YtniD1zt/ngyHzSP/1QyfVbIIDIsx6StZ5qTM2prvqvoU9TjgqVbmRRSbbjYuvAcA4UZAVYHimfC9LzCOx/5KgDPwAmEIlmDeMryUXRJ6iWWcfovdS0kUEMUcbthWsdOHkwlqtxglYYERsuc//5GksztoJizXveT2Xvs9zdb23LBYKQFiSSRI5USS5jQ1ymRRFmg8fMKBlsPIYDS8YoUK5OhESCEEGhpmItBw6ikN1jIwZDbIJCtJT1BKOAEogzq7Di2uw4oAN//zy8AxZwmWsVpNokjlRwJGl7GUZ0ggssy8i0bDa4U2242xrKBilwyA4Osis8fb+Us83iqRI02khRwohwTgssinOD43eKONU0bSRLSGD96Re83p7OpTaSm85ivg1Hcp2i5RB7/+5h/AySb1UFeKPtSxx9nubu0PNIUVUFghVBKJDjkSA7HwShOOiGeec/FI4UBciRNjxVaFwaOLstzs//uQYM8AAvQrS9GJMthbRRmdJMlLDEyxK0eka2F6FWZ0lKVsqpOCnTCBEdYQaNdhcEAZ1g1r0sIKMVNzV6MK4Dh8E2Pd//c2gWKUJVKa225LWL+3b4qOYq3k9pyOSObewD+dj6uGXTbFLNHGKSShRJtsoGEFCrRhGA7CGNucNc4uA8GECowVD5iwwVVCLVPaVDIrD1SL1rnqdxw1DjV8qhZldCA3K6qIafjGx7qil03WU/9qhryYw0QgioKRIcchMK6ERFGJ4l96EI2xBYKqIANgSs/NG8Mo63LVS3aNitxeFORIcSszCUOQuyLpvXeIPRqpWcfsfEK02FjTtH/70Nmdrqi52fcH3sJMsa51bMVcWU2OFrDZdF1tgFFNFBx4QxTcfioHJ6YrWFCxDs7MWlLGpxkMoUU0ell8e9K0yNbpzHA0XQIYMBIYDCeEye067l6ubHhL3KO6zOer1acwTAiX//65dunltU0ytlTP7ewSjyKhgFpVRABBDigGgJsY5/HEpUonDfq2LTo9PgFIB0yWT1r9gtR5xY2kpz2ikrql//uQYNAAAroqy1GJGthgJXm9MShbC+StK0Yky2FzliW0xKVs2TLTqHq0OdOCSh0TmdO3rlqQ4iFiTT3/6IfUhl1dGQv72E3p+5j9CNInkYnXCUUkmlJXI7+Op4LVo+FpeSoMij6jaPXk+qprhcq3NlGQAlBptkysTvYipOCBpNxBiw4tEyrFhtiWrdElOcFu/dbfo8Nhwu94/tSf9YPn4+GHPJNeMoir1maRrTDnq9fvZRFhVGAVQCQQ4hOHAc4h2MA8Mj8yJ3oZxQQgtEI+PzmNaVEaw2QYq+X1+P0uriJYMQlTFqctZmGd3EjD+KNYcQtCvwwEDMWGlqP/00OSLChZwJtsB2knIgMeBzyFe3ODUVvmVKOLn/1opJISvg6DURICmg4OkaJFB6OL1q3HMIJOeFCZAXH2oL0lAYijSFMV6R2jRQucEOLk2/L26Y70c/c6aUnKNke2y1AFiCW//6lBuqLX/FWQSU2s4z/EC7QswcUGFhZaqSTSFsgI4XGMLZCLwkQFlpMZYZDyMhWk5NdNFQzUKKsqDBdsikMnD7lr//uQYNSAArgrStHsGthlhQl9MSlLDFCxKUYwa2F4FaWolKVs61SXpXopO0ELOxNzc1o32rMvkDsn65/Mf/6gzHnGNWkSZ0q4QCfooPNBk5rTUWTJnJY0OWADLqtJJJbIN75jwLgoNA1xVC9sHYpwhQxXVheJwTfhkwDAoDRQthU9yy5o8225z0BldsCVV7nDJWpsIxZ8JoMuMYWriQCbUc//oeqq0a6Kz2xSFvYWT/azKXioTHtQZhKKRSKSSQkbehIr6Gl7bUarjfTENsLI42NxuiNRHJY/9y//hpNCufGTiV+lDLWSTI0sjO9NNsIOyU0ay0th4nGfaMlFngjbDrRwzBplX/0oSscHdkUF1NWMazMFy6EpZ/Y3KzShOIogiySkUkkJHcGqMUbpCiLDDC9mKiOpvkgUlETqpLEJOqvU55oOLUKs1cIo6RJlQeflJj0GhvynizlpILTwNOJayMKQCJwAsf/9U1R00PADGMj3nLrGvdp89cxp8UJ0AJullJKKEjYC0JA+K4k0HsLjk9g81e0l+ly57yk1Nf1h5CyO//uQYNSAAwwsS9GJMtheRUm9JMlbDOC1Laewy2F5lSW0xJlsPJmoVqTnR++dVl7VHHVmaEIDQiGIhXFOzudBBCsqUlLf////uzI3+qtQz706u22/1/9/r/zO10SFR6FFUtAkglEhxyQh0gLZBKw1nxVcUojl4e0IQWEkXpJ1CxyMdUFqLHjdLBi8Fo9a4WJOJpgEHTHGdKjxzbR5soJskI0xaZCUhliP/8q+5JWffaiPGPJi61UgJw761lRUXJhV5YSijgR1m2YgooSxMIQEiYIa4PTw9U1XrGeWkg6BqFLhfjvSfSlazUDnUKv8/aZiE83tGHYAeG6dd1V34C9TkWAGDgHOgcd//ZKEnDW+gWb4s8+KInPVbe5a1BsYBEGyiXYk2m43b76BwTuzeSc+0soxiKHu4MoolBMJKU1o0kmYKxhNqaFPyauKcrH1pk7csbabvatDjaktx8qjI3AeVCoOKJ6E2Uxs7e1tzGMdfDbRKpB1wYHjzjr/ZfWMWG6hWJQkwlElFJFCWbQ4YdkPN481Eb2HjHhEQDg+OhUmaPan//uQYNAAAvBky1GJE2pmRUldMMZbC0ipL0Ywa2GJFKa0kyVsNuCODMWkPIbfgwmhTqnp5XfOpdUpPMzHtnYq8bWpc/49/U3fGOAY9f/8bILSukMnYGVHx2Su/3LDayuxRtgoUc60m25GxtbkC5NLROIxOoYUMZTJZO06sZOsfqjZo4NMsLxVe2h37DuVnO3MqoieokKBuV4rkJzTzIvppOUO8Sjz6hc1//rtptFZIZdFEt0MXIr62ce1kgBBgLFYUySUSUkTJWQTUIHx9YBqiFLYtqK0KBUwgVA00jhcfLtS6iBu1ELixThzcDTbdHoc85ESDhUooqx4Y0WWEFjSTDtmeeihgJrRcyfeJLHUaC2KtjGRd5j9bIhkF40QmGZGkCUSkUJWmEQdAwHgWDIUHViW9TS6b4qMom7yIKCOBEsRECT2YSysixkKaYhZdkWzBcwgYRVIivDVxC9r9tOsONPkf/9yHLfMIQnPjyfekspBEt/1BKtgoTYYiSJJRRJRQkaGJL5EIRTPxwGgnxHgZYFBMKhUgE5oGWai9Y25HBh7//uQYM4AAu8tS+npMthcpQmtJSlLC9ClL6Yka2FwFiX0lKFsAnS932ZJnzKr39bcwFfHhG59Kirx88+J1zmO9nVS6EO/+08g3vWc1NUPY1gzxMvu+wIsEA0sHAkpuGQpNtyNi3VEsfi+WBo/C3Y+iz9FZSd1kUPOIGcksghQTYZcO41zl/fM3ioVTIvxeXqOMDCBin/rF7QUtzK69HZz5/q5ZoGzrf/8yz7h1dqEvVxqdLdcNpRB0aCg+QCzBkJRJKSJSKEsYDkIUhCLCUjiCgotTntFxWYIxCusZttphG+f6Ay1PbTq4JzqLNVk255JjARYdSoRySqpi1IOQK1CAjvIZH////+TV2elHpdUf6Fdd0W/XLv2r+e/32T1s1pI1Eo0zTbbkbG1sCQEa/CgbFB0lj+UgkhXSNUndKJLs+AsKFanJKbT50rAy6YrmaI2VhZW14omHQ1WTLTmZShPxhGsrILzCB9hr/+tlpw4mRe8SlCb6I5rRWmf69feoA6Q6IIEVBJBEjgGsflaIfSoWxCgEzyQMj2oHqEx4gvIyQTj//uQYNIAAv4tS2mJMthhZWmdMSxbDGGZL6YkTal+FWa0lKVscpWKW774FErxdfLe+x2w5+fX2f/jbGL0oZNDWhMcQT//Q8ipKD6Etciq0gqeryqt3FIcb4mLm/VWyk2k2ndodC8sDsLcHteZ0V89byxzRtHQpCBI0JIGmFGXbNyGFRZP2A0TCkEiDGjDtMmNOI06W3HPt5xWz+ths+EHbGb7yLHkA6iGiU2McffUEWFdL253/uqVQloqipslJpJJJC2F4GoOmJfHcsi8YxCA0k2cpts4PASM8mc5DdzhiqS7aKsG5aENz5aWjWOrpS06fdbSEtLHM7otOWfDYsgblv/0A5JEEqa25DERZVYpdJpbsk03XoYmMWNWp+SpJZLbB/vYfEACBgEStf566kI7GlL1Oek6uChGEWkKBJuDSdxdh+InQI4dpMdTgA8TKa7FTTyLkChEiZc2mgd2f54mhgJ//6XXsLxegkn5sTO0b/XTpMixp4nYEgcQAABJEj4Gwk4RgoBoCCZUlPnUaPBfZme/Sbx8h2iM5wmxin5dMijw//uQYM6AArgly1GJMlhfhUmdMMZbC+ytMaYky2F4lac0lKVsGwh4bQiDq6B1ZBnExMIg4YkqPZ/++o4YeGxQSiAy+GV3UMRZif1ptIuegHhMLIDcbRJSqhV7BEdBUjE4UC4lxlM19ZTN4bN0B4EmLEihtUhGuUWM2nI3sXQvlgvoKdRU+PF7zJeZpTrHnJCGN7qGlFjuyd6gkrKhY0//+6WGCrSNp5rPau+rf/bGDXvjxQOVqiSSRbJEkDSEDUdqDQaK8OTFlx1maAVj+N4qgLGVYZCHYm0HMgcBniqizdikk0SmV4MprsAK8MzIxa1lYcgb//rZUwSRgdmzzKEKZtI45v26IirgiWeKgf62ORuSMf7/6Sh0EhQKEz7SNrGgEdVdM4mfzAUkSKI2zQusqa/8rV673WlxCxq90sJ9GueNm/b0sEBaNAULox+imFgkcjVc6wFgG5xP/6bSANalh1R1x6OfSLSTU0/pp0oNmIJDQFpFZJJIFskhikkjmPBMwtdkyQwwscuipIBhKe/GlzXMN3yuEbN4pkLg4gaZtN+I//uQYNMAArwpy9EmGtRfxSnMJMxbixy1MUYka2GYlac0kzFsLghJDuq9OYhBdz6dCTIgEIryV7WdTjP/6EPbcxOu4A1uRr+z79bzy2yAuCDJjTSSalD5Cp7ugPEggTjtEEkYSEaBRxLMwSx2U476K1sD27O7b37nZnQppOlj7gehkJ+qRbTGPdaityrhOQ+oiP/U8ukeiDwvZEMvb1pUCgIvt///9b6FlX3HUtSa91BUnGTCjYmEe2sqkklAWF9DHgrDHSGPIeH4vRpkKAQiQ/HNr9Cb9pR85JqSXRtCbVYdFpDnOa1OFbG4eGH0JyLINLamkoueHCIapcUNMRT////1Jge25JjHIvU22GF5YREoYHZ8yqUkkBYVA37AwyiBcQGNkwkECFCYsHahY8zO1Vaam05K1Vabor6OuLLERD0JcqHcmT+gLpRnGL52dz9iTrGRKTWlqRTx546UgN+m6kKPmNsnZ////aZv+o//pdL0E2GkAIVCUUkUUSNqmBIDmAyFw4kCbY0mpDtPRW+QSIc9DAh37FF8rD9GW030obK1//uQYNYAAtctTNGGSthnhZn8LG9bi2i3N0YlC1GGFqcokb1qvy2ZNnT74itMG0gjzJQgYc6Bi3izNsk2T6KDgp//rQKmUmnFxa1Au+Kp5fWTt+jHjFqngwnOiAEpEpkgbKiUbhDEECN48lPl6kLMoHDC0AdnCUHxDCZPdrt/RPqVnExMuRXQhKBIfSZcVieAGDMRgNG45n1nbrzhajRJElWkTENNss4Y3///+pWplBKeRfR5RNiySUAVeyqqkklARrQbg0LwlgRWCtEtQ9fowVRxD81CijrZ0brKnTr/UpD198VC0amgpNRbrFmzqdpXVMzdHHO3KQY6fvOrdCxLKKskjEbSr////hmwh+5//pmqIW7exZVAKSBKJY+iA1lTon2jgQa/85P+zpJThiKeD5mpv+Of9m6I1sR0VykQlVRKL4hzQnsB0TyerLsaI7qsYpvqj1W07C3v19/yn////a5H9p/89RqbrYqEslJJEkkga89SmRiOaWQtirwxWhH82xnimDaVr+JNmDARuNvbw7y0njdmDpYas9OWRAoHzCHB//uQYNSAAwgsTWksMthhZamtLGxbCwS7NUYxK1FeFqdkwzFuoEWlEQlKMJdkWBUXGAslkFzjN2FHRCU////1V56KWnUf1Wq0EXjj5jgaQotFJJAejUVmvmRKKR6bnke/4oaK3scTJmfa8jES5/jO8rK5qCnsecUwQCfhJBmWT1WanWPmC5KnEgwChMiM39Koj+pVFZaY2bdeSXdX1d///+lY4YpaXPSabT/aURLir50xgWkkkiiQQPh4HUe4wCHhIQjgydO34b1P15dCJCs5d5ZefOZV/K/fYxdZdR2sQbgMdognc4ze9tfWLte9ythO0SWKrWUrgAi0qTzbD7////42We21KHXCi79WkUuHGppcALqCERGm2kB+JhIviuqgTj4wmaECFgeMt7/qd5kFksXi7VAcVw9bIDzdUpCP+REp5qQ2rZAnQt6wnWgUUdiNfvWbOoSc2Vsz863sdZhK6PDlj0gOMJ////WIV391SS+uijeNeWYpQJh0hKJJJJJJQGoqEcjGx2CNQ5uTPWFiJATIUIGAw584RhDJJ3t3dQS6//uQYNoAAvouTWnvQthkpdm9MMxbC/i3N6YxK2Gklqd8xD1sSey2pU/fDrqI7KLpuJEBXamjx8ZzUhmsR2CbzfC4UERIAw7////gZaiCJ9pc2ge5EXa4Kh8YUQJD8BKAodjZJJKSqAehEcoGIHiVSe/53u21tf9mmMjRRY8eRouJxczHHri29+ZfoOKsswhGobeKSwmQx1gOk5gpSwQLWzq7xcLuXYPooPrCdR////OsY8bU+/NHvVT4maQBIXFZVVlKKSA1YJBPJYmE7mzBMeQqEKKjFgrElWcVvS00rjORWnnlE4MGisK/jXzP2waaWgA0hGuAEDmjTGOk8opjVLCAuSodLjL////0PqFBfY96LujrGNyAiU4hCYiikiSQQJCwGZ9WYGRqZJdsSnntNuEII03zZmSKE4kEzO9Jy0GGoL+azK5s3SmzZWxGJWL1GJgaUFmKNPSDBeg8YEZI2DANgQYJwUIHTSOjv///1AdqQSEjrgEMpqzRi+oqDcUDIuRDYJZVVJJJA+sOOBIE0VEUFAYoFFacj0EdBvByj+Ly//uQYNIAAyQsTumJStReBaoMMMxbi0y1QUYwy1GmFyi0lKVuikmxIY54bHF9LAmhPUkdoDBUJsOPGjwnYndRhD+s/l4R2cJwRtubxLFsFTICAQVWkar////6t/qSGfWj7BguKsBfFWliSQALaBTKZbTaVZRtGoVoi2YN3yYK/Nzo2NS0RTY9N4aHAOCHoX7s+lVK8SImlIgQ0VNC04NlINwgpdlENzGFJaIzDi8Tb////fWhty0M/ziVJpSYQ2La1V+kkSBbMFWK3NLmnbqvmQX2QPS+LCP1hMJ27NlDVDnvViI1RYa4f32erjh8KCDkLkDiQMzgFERggo84FGdGcAFKYEqEhENu4YSg8QXQz////t5f7P3b0vVYWWiUkm5G22wPsdI2THGXKqWrdFvohyN6s1EMmZPORb6Ot+SO8ww3zOy0lvM8ZdM7HpsjaT2oqWPdULSqXUsBNYKk7jyOEmytaVyvuCjj0pDgvY0cBf///IESiTr0IahaEt0/2HsALUAK6v0kigLbD3GyrU6UE8CKnn7eYSPmNiAUd9jxdXsX//uQYM0AAvYi0tMPSlRZpZqKJYZbi4CvU008a3GYGCt0NL1uZKJ1ApBzaFPDVxyK/JXmLFpL4s1qGF+ci21tzYfU8uFSRa0gIkRVGiZrFhRhn///+FJNFDkHaU7l+i9VxBZkH5qykigLf/0tA0UIREVY9fHS8pQ/q5FEzYxKDnx9iobdHGUC4wbFQyJlRtdII8y0wyUFJGnFCGUzaAUGkmeqdVIBQYJicuHxpwgPJ6uu1Sf///m3ueLHXz+Kh53+DLUqW4WSSgUVUkkkD1XmMf6Fr41E+9JcpAnRYtAUgieC6vt8JqQqWSgSlBLuaFvnZKW+xp6JFyUoaBZA4a0QWFwSC8TgMRjWM////8g3LmlvNuFyCP/3rDKRwxDnqikiQLF+BVRcSR3PelC5bD7VXa07NEA7W51Jxl3rtIRYN0xV9E6W1S5XImAiB9krKU5ky20U10nZ9A8cCIDRG5erJ5EJKeO3Xg18z///+ScoNrdOPseX+r68WJRcRVVkpJIDVMhRJZdp4saJqaKnVrK0KWxlgoqiaTJFnESeS4RBpu5S//uQYM4AAu4t1FHpStxkBgp6JSlbipCJQ0ekyVF6F6modLFuk9APH4SVkwZyWKClCbVTeBSp5XkZKSExVzzizJpNqiabU9hKS4KmCFn///6sbe6oVuf/1oVFGuSVQ1lkkkkCTFCa8BIaatLRhe+eb/BU4dzfdCckWI6mzso7Na7WWJ+jjZXnT5FODFKDGCDGJQJIwGGHeMKLdxxmxJhNRiDyKRWNJdNieXUiEcOp1pWf///////07ops1CurU1rI3v//XUq9+1a03ep1GoC8qqoB7ISBGJYnSDMzSFcrnK9Q0y0ynWY7SYsi6OnslQ7DNm+zXYRiCYgYQvVUJkK0DizIpgip6ZNO7RK3NaadeaiweihzJQ73Ap////oX+hSmz37XqvzIcJmACXGkkSkSBJ56mIDS5Uk6fTdCFTMybNFuwSAUrZypRm+Px+LFzjRHQ8Ii6TyRARlF10RhEkuSkZUUhJNkyeDyAsLCyzM0EVZxVZJf///x44i99xIVP0IfsoTZwGKAjNGAlZWVVAPeHCY4Ss7EcnFcpVeqG5yY2TPq//uQYNIAAwAq0NHpStRwLOo6IS1ti2yxQSYxK3GAFyj0cyVuS4k8S+87pLSNqfKvhLS6f4SDI2Tx1PIqqqK1uUipBJH7kWGzZO8qhFb2Cq9tL0Sn0lLIWwKlH///+11ZR9b71fsVZAjB6h0NiPX2qiUiQHEgflt0DYjMmc/U7o48HSnNHgSyym9mYYlpSOJ3qg+U50+0wm5WjpERA3zReRZwgZI2kkVjKrtlAqbSEOEtokTT9dFX///6GPqQxjumjXcLrNpJTiDI8sB8kkkCxqJ6dS2nhL2iOdJYinUr6IJCkgEJCifUWF0WxKAOKjdG6QB4VBs6/HB+U6V85vWEeTKkjy5YJAsJh4w0dNjzFR92QMoTMKOcp3av////////zTb7r63+1P+nXq0xrOm6LTIBCJMlJVAP8RQQOgkbpmJS0swdErve4FrnkLHakQFJYliQwiI0RPTQUScXVSdNvHQIWD3VWm03hJBJJtfMavpnkQfaSBYJlqv////P1Xk3l0J7ehchxY+A0JaVaJKJA+PaOCyLGjk8qEcoZTpQyy0Z//uQYMqAAworT8nvStxdJdoqJMlbjOGdOOek7ZFiFSgwsyVuHvmaolTrspF73Yy/DDCz0bBsdR30BU0tccxt2SIqZGkL+CzI7E8ogXLL+RJPTCIUicV4TCIqaX////003KkCYvX+y4wOHvW4wFocBaVRD8MSUaYHII8cf8yIQd4UiSYiZsnmiz0HPaOxIpzVnWmDlnCUwm5Yj1MS+o83VxOzjS9Vvchc32qS+SwWK3Hx66eBc2N////KkEkRlSEY17/dILOMPhZryQ4mSzCS0kkigP2hGEYcRWVyEsVE5UkgsRYsuRy02tC01DCeCECyqmQam8Vo1m4uFDHIVZT2ZQwwXmibnJSDa5ddtDNJMrNUjNjL0mj+Mm4JAwC////2DJB1Nf/Qy4AuLPDQlGBdJiBEoqoB+CeICwPEd/Sk2ZJFTrkmJlGo9o7QRQND5IadNqk6xCseCmsxSfjaqg6owZVyGSLQcmvpOtRUkFTEidCaOEUJOXcZKi////9rEjV12Nax2lCJeaHIWLBh9w5VlZVUA82QjwIAsJOz+RMFGucj//uQYMoAAwYqTlHsStheJYn5IMxbjFyxO6YlK2F9FifwxCVu1ebvIQgGedJPd7iTfmGh6cVpRQg+UwoJDkm/akMQ9LG4NkDSIoTsNLI+3FRJZpJGmsxozGT6FFnAfd///+6ZqFT+RX/S+44dGnoZvKEsxtJopIkCSWz94dRn2qD9uxAiu6HPwOKxOKlZmcEVTx3LQSSFbBNzOnmru5IXHQsX3GZs650O2pOckTSFsOlHik3TPeW6jA9////XsWWzbnFr+UoYmfEUsw2JwTVaqolIkCSAjWyBUYQor+DoMhMH0774RB1VglrkJ1GZVhqzFimawv3/8jFB/OUiApBi2p43xCipjA1mc62sQ7rHoS6zZKYMEKbrlByOVV////cGUriinPjzTHMfc0o89jTgYh9JMkqttuJtpAW86WjOvMRjSd8VM5CE2vM2l4TLsNf/xmRMx1SHR9nsKquKFcXbTnop3xKO5FKfViJZsIwi4wDNokldaNiEK2////rF1SvOEktM99QpfMEVCyoEEoAluSyWySNuS0AqRBl2YCno/CoO//uQYMgAAv0rT8npStxc5ao9MQlbjKCxRUyxK3Fqlin0kyVugqkp4g8D+jAoXHSqjBGsWNPJ0TIuPBYC0ug64LKMoQydIxSkxcNieRi6iCDUPQwgdB8ez4jOIowXOJEZw+PLOGRIXSYjqar47dkm0l4tJtJtFSbSbQbZcGPaTaRTsY9pJjsY7I9nxTtTsiU8U9pNPFPCF2fFPCPCIrxT9PTxTjFLAJUrczksgAHj1YiIJAuLIbj88a2ORQImmAaKTuoOpif65AfnMt1KSOWrRxrGg+3Uq1e/RsuNL9S8qdVUgHmrLBpSOrUX7RnmSSU25I5I5JMPpHmis3L60K5vcjlcGZhcAoDGgsLIlBRqACjSMJGwSL0iUmATAotGTkpbSMJHWicmAVEi9lqoksjCLOidqLWStE5ctpto1aJ2olIkrROtE5MkWidaJ1omqJOidaJ2JFqOtE60jcp1HWibCT5TzUVOU+U9TFPlPhGEjYSLUSZI2EjYSL01kjYSNgiyzYSNhaoA//5Y9/EsSh2oGnyz2lXQafDpICkk5JbLbbLc//uQYMgABKBnVWsJQ2xIRdodFSxbUsmdRaeYzaBUACeIAAAAN0mRAy+HOfiLOw/1OpGNWKtZDQVBYFgfEBOOHzLSEhLLwmsqcLroEbB8lFQhGhobICc8aQkRUqcLsTpNJecJ48lIhCHg8XQGzxMQkQyMjBGgbhOGyjXkqsVOJLwbc0hLFSpRGw/JRksmpOorHVFJweyiISwydKI2HsolVix1ScLq4ZubFEhLHTqiNh7KIqWLF1G3bm5GV1clVk11JsPZRFSxYuo27Qb//////////////////////////////////////////////////////////////////////////////////////////////////wg/////9QuyKioAAAAAAAAAAAAAAAAAAAAAAAAAAAAAAAAAAAAAAAAAAAAAAAAAAAAAAAAAAAAAAAAAAAAAAAAAAAAAAAAAAAAAAAAAAAAAAAAAAAAAAAAAAAAAAAAAAAAAAAAAAAAAAAAAAAAAAAAAAAAAAAAAAAAAAAAAAAAAAAAAAAAAAAAAAAAA//uQYMKAB8hmPmnpS2oJ4BcxAAAAAAABLgAAACAAACXAAAAEAAAAAAAAAAAAAAAAAAAAAAAAAAAAAAAAAAAAAAAAAAAAAAAAAAAAAAAAAAAAAAAAAAAAAAAAAAAAAAAAAAAAAAAAAAAAAAAAAAAAAAAAAAAAAAAAAAAAAAAAAAAAAAAAAAAAAAAAAAAAAAAAAAAAAAAAAAAAAAAAAAAAAAAAAAAAAAAAAAAAAAAAAAAAAAAAAAAAAAAAAAAAAAAAAAAAAAAAAAAAAAAAAAAAAAAAAAAAAAAAAAAAAAAAAAAAAAAAAAAAAAAAAAAAAAAAAAAAAAAAAAAAAAAAAAAAAAAAAAAAAAAAAAAAAAAAAAAAAAAAAAAAAAAAAAAAAAAAAAAAAAAAAAAAAAAAAAAAAAAAAAAAAAAAAAAAAAAAAAAAAAAAAAAAAAAAAAAAAAAAAAAAAAAAAAAAAAAAAAAAAAAAAAAAAAAAAAAAAAAAAAAAAAAAAAAAAAAAAAAAAAAAAAAAAAAAAAAAAAAAAAAAAAAAAAAAAAAAAAAAAAAAAAAA\" type=\"audio/mpeg\"/>\n",
       "                        Your browser does not support the audio element.\n",
       "                    </audio>\n",
       "                  "
      ],
      "text/plain": [
       "<pydub.audio_segment.AudioSegment at 0x21bb6715f08>"
      ]
     },
     "execution_count": 115,
     "metadata": {},
     "output_type": "execute_result"
    }
   ],
   "source": [
    "clips_negative[24]"
   ]
  },
  {
   "cell_type": "code",
   "execution_count": 116,
   "metadata": {},
   "outputs": [],
   "source": [
    "def generate_single_example( background_sample , clip_to_dub, background_only=False ):\n",
    "    \n",
    "    ## positive labels here\n",
    "    if not background_only:\n",
    "        overlayed_clip, time_stamp_start , time_stamp_end = overlay_clip_to_bg( background_sample, clip_to_dub )  \n",
    "        return overlayed_clip , time_stamp_start , time_stamp_end\n",
    "    \n",
    "    else:\n",
    "        ## Background label has No any sound, or some of my own sounds. .. \n",
    "        if random.random() >= 0.5:\n",
    "            overlayed_clip, time_stamp_start , time_stamp_end = overlay_clip_to_bg( background_sample, clip_to_dub )  \n",
    "            return overlayed_clip , time_stamp_start , time_stamp_end\n",
    "        else:\n",
    "            return background_sample , None, None"
   ]
  },
  {
   "cell_type": "code",
   "execution_count": 123,
   "metadata": {},
   "outputs": [],
   "source": [
    "def volume_adjust(a,b,adjust_type='diff'):\n",
    "    '''\n",
    "    a : background clip\n",
    "    b : l, l\n",
    "    '''\n",
    "    adjust_val = max(a.dBFS, b.dBFS) - min(a.dBFS, b.dBFS)\n",
    "    # print(a.dBFS, b.dBFS)\n",
    "    # print(adjust_val)\n",
    "    if adjust_type == 'diff':\n",
    "        if a.dBFS > b.dBFS:\n",
    "            print('inside a greater')\n",
    "            return a - adjust_val, b \n",
    "        \n",
    "        else :\n",
    "            print('inside b')\n",
    "            return a, b-adjust_val\n",
    "    else:\n",
    "        mean_diff = (a.dBFS + b.dBFS ) / 2\n",
    "        if a.dBFS > b.dBFS:\n",
    "            mean_adjust = a.dBFS - mean_diff\n",
    "            return (a - mean_adjust, b + mean_adjust)\n",
    "        else :\n",
    "            mean_adjust = b.dBFS - mean_diff\n",
    "            return (a + mean_adjust, b - mean_adjust)\n",
    "        \n",
    "        \n",
    "def extra_boost_clip(clip):\n",
    "    return clip + random.choice([0,1,2,3,4])\n",
    "            \n",
    "        # return (a - mean_diff, b + mean_diff) if a.dBFS > b.dBFS else (a + mean_diff, b- mean_diff)"
   ]
  },
  {
   "cell_type": "code",
   "execution_count": 124,
   "metadata": {},
   "outputs": [
    {
     "name": "stdout",
     "output_type": "stream",
     "text": [
      "-24.214880734939047 -22.2123243667956\n"
     ]
    }
   ],
   "source": [
    "background_sample = sample_from_background( song )\n",
    "clip_to_dub = random.choice( clips_start )\n",
    "\n",
    "\n",
    "# print(background_sample.max_dBFS, clip_to_dub.max_dBFS)\n",
    "\n",
    "adjusted_back, adjusted_clip = volume_adjust( background_sample ,  clip_to_dub,adjust_type='dsf' )\n",
    "adjusted_clip = extra_boost_clip(adjusted_clip)\n",
    "print(adjusted_back.dBFS, adjusted_clip.dBFS)\n",
    "\n"
   ]
  },
  {
   "cell_type": "code",
   "execution_count": 125,
   "metadata": {},
   "outputs": [
    {
     "data": {
      "text/html": [
       "\n",
       "                    <audio controls>\n",
       "                        <source src=\"data:audio/mpeg;base64,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\" type=\"audio/mpeg\"/>\n",
       "                        Your browser does not support the audio element.\n",
       "                    </audio>\n",
       "                  "
      ],
      "text/plain": [
       "<pydub.audio_segment.AudioSegment at 0x21bb678b4c8>"
      ]
     },
     "execution_count": 125,
     "metadata": {},
     "output_type": "execute_result"
    }
   ],
   "source": [
    "generate_single_example(adjusted_back, adjusted_clip)[0]\n",
    "# generate_single_example(background_sample, clip_to_dub)[0]\n"
   ]
  },
  {
   "cell_type": "markdown",
   "metadata": {},
   "source": [
    "## Now Generate Training Data"
   ]
  },
  {
   "cell_type": "code",
   "execution_count": 126,
   "metadata": {},
   "outputs": [],
   "source": [
    "save_path = Path(\"./data/generated/\")\n",
    "save_path.mkdir(parents=True, exist_ok=True)"
   ]
  },
  {
   "cell_type": "code",
   "execution_count": 127,
   "metadata": {},
   "outputs": [],
   "source": [
    "import pandas as pd\n",
    "def prep_examples( no_of_examples = 3000 ):\n",
    "    meta_data = pd.DataFrame(columns=['filename','start_time','end_time','label_type'])\n",
    "        \n",
    "    for i in range( no_of_examples ):\n",
    "        save_name = f'{i}.wav'\n",
    "        \n",
    "        \n",
    "        sample_song = sample_from_background( song )\n",
    "        \n",
    "\n",
    "        prob = random.random()\n",
    "        if prob < 0.333333 : \n",
    "            sample_clip = random.choice(clips_start)\n",
    "            sample_song, sample_clip = volume_adjust( sample_song ,   sample_clip   , adjust_type='dsf' )\n",
    "            sample_clip = extra_boost_clip(sample_clip)\n",
    "            sample_output , s ,e = generate_single_example( sample_song  , sample_clip )\n",
    "                    \n",
    "            label_type = 'start'\n",
    "        elif prob >= 0.33 and prob <= 0.66666:\n",
    "            sample_clip = random.choice(clips_pause)\n",
    "            sample_song, sample_clip = volume_adjust( sample_song ,   sample_clip   , adjust_type='dsf' )\n",
    "            sample_clip = extra_boost_clip(sample_clip)\n",
    "            sample_output , s ,e = generate_single_example( sample_song  , sample_clip )\n",
    "        \n",
    "            label_type = 'pause'\n",
    "        else:\n",
    "            sample_clip = random.choice(clips_negative)\n",
    "            sample_song, sample_clip = volume_adjust( sample_song ,   sample_clip   , adjust_type='dsf' )\n",
    "            sample_clip = extra_boost_clip(sample_clip)\n",
    "            sample_output , s ,e = generate_single_example( sample_song  , sample_clip, background_only=True )\n",
    "            label_type = 'None'\n",
    "        \n",
    "        \n",
    "        \n",
    "        sample_output.export( save_path / save_name ,format='wav')\n",
    "        meta_data.loc[i] = [ save_name, s, e, label_type   ] \n",
    "    \n",
    "    return meta_data"
   ]
  },
  {
   "cell_type": "code",
   "execution_count": 128,
   "metadata": {
    "tags": []
   },
   "outputs": [],
   "source": [
    "meta = prep_examples(3000)"
   ]
  },
  {
   "cell_type": "code",
   "execution_count": 129,
   "metadata": {},
   "outputs": [
    {
     "data": {
      "text/plain": [
       "pause    1070\n",
       "None      995\n",
       "start     935\n",
       "Name: label_type, dtype: int64"
      ]
     },
     "execution_count": 129,
     "metadata": {},
     "output_type": "execute_result"
    }
   ],
   "source": [
    "meta.label_type.value_counts()"
   ]
  },
  {
   "cell_type": "code",
   "execution_count": 130,
   "metadata": {},
   "outputs": [],
   "source": [
    "meta.to_csv('data//meta_data.csv',index=False)"
   ]
  },
  {
   "cell_type": "code",
   "execution_count": 132,
   "metadata": {},
   "outputs": [
    {
     "data": {
      "text/html": [
       "<div>\n",
       "<style scoped>\n",
       "    .dataframe tbody tr th:only-of-type {\n",
       "        vertical-align: middle;\n",
       "    }\n",
       "\n",
       "    .dataframe tbody tr th {\n",
       "        vertical-align: top;\n",
       "    }\n",
       "\n",
       "    .dataframe thead th {\n",
       "        text-align: right;\n",
       "    }\n",
       "</style>\n",
       "<table border=\"1\" class=\"dataframe\">\n",
       "  <thead>\n",
       "    <tr style=\"text-align: right;\">\n",
       "      <th></th>\n",
       "      <th>filename</th>\n",
       "      <th>start_time</th>\n",
       "      <th>end_time</th>\n",
       "      <th>label_type</th>\n",
       "    </tr>\n",
       "  </thead>\n",
       "  <tbody>\n",
       "    <tr>\n",
       "      <th>40</th>\n",
       "      <td>40.wav</td>\n",
       "      <td>1544.300768</td>\n",
       "      <td>2252.300768</td>\n",
       "      <td>pause</td>\n",
       "    </tr>\n",
       "    <tr>\n",
       "      <th>41</th>\n",
       "      <td>41.wav</td>\n",
       "      <td>NaN</td>\n",
       "      <td>NaN</td>\n",
       "      <td>None</td>\n",
       "    </tr>\n",
       "    <tr>\n",
       "      <th>42</th>\n",
       "      <td>42.wav</td>\n",
       "      <td>NaN</td>\n",
       "      <td>NaN</td>\n",
       "      <td>None</td>\n",
       "    </tr>\n",
       "    <tr>\n",
       "      <th>43</th>\n",
       "      <td>43.wav</td>\n",
       "      <td>3525.133487</td>\n",
       "      <td>4000.000000</td>\n",
       "      <td>start</td>\n",
       "    </tr>\n",
       "    <tr>\n",
       "      <th>44</th>\n",
       "      <td>44.wav</td>\n",
       "      <td>231.411710</td>\n",
       "      <td>1196.411710</td>\n",
       "      <td>None</td>\n",
       "    </tr>\n",
       "    <tr>\n",
       "      <th>45</th>\n",
       "      <td>45.wav</td>\n",
       "      <td>2628.531348</td>\n",
       "      <td>3719.531348</td>\n",
       "      <td>start</td>\n",
       "    </tr>\n",
       "    <tr>\n",
       "      <th>46</th>\n",
       "      <td>46.wav</td>\n",
       "      <td>1455.904137</td>\n",
       "      <td>2024.904137</td>\n",
       "      <td>pause</td>\n",
       "    </tr>\n",
       "    <tr>\n",
       "      <th>47</th>\n",
       "      <td>47.wav</td>\n",
       "      <td>1582.851710</td>\n",
       "      <td>2255.851710</td>\n",
       "      <td>pause</td>\n",
       "    </tr>\n",
       "    <tr>\n",
       "      <th>48</th>\n",
       "      <td>48.wav</td>\n",
       "      <td>2964.512177</td>\n",
       "      <td>4000.000000</td>\n",
       "      <td>start</td>\n",
       "    </tr>\n",
       "    <tr>\n",
       "      <th>49</th>\n",
       "      <td>49.wav</td>\n",
       "      <td>1114.762865</td>\n",
       "      <td>2356.762865</td>\n",
       "      <td>start</td>\n",
       "    </tr>\n",
       "  </tbody>\n",
       "</table>\n",
       "</div>"
      ],
      "text/plain": [
       "   filename   start_time     end_time label_type\n",
       "40   40.wav  1544.300768  2252.300768      pause\n",
       "41   41.wav          NaN          NaN       None\n",
       "42   42.wav          NaN          NaN       None\n",
       "43   43.wav  3525.133487  4000.000000      start\n",
       "44   44.wav   231.411710  1196.411710       None\n",
       "45   45.wav  2628.531348  3719.531348      start\n",
       "46   46.wav  1455.904137  2024.904137      pause\n",
       "47   47.wav  1582.851710  2255.851710      pause\n",
       "48   48.wav  2964.512177  4000.000000      start\n",
       "49   49.wav  1114.762865  2356.762865      start"
      ]
     },
     "execution_count": 132,
     "metadata": {},
     "output_type": "execute_result"
    }
   ],
   "source": [
    "meta[40:50]"
   ]
  },
  {
   "cell_type": "code",
   "execution_count": 27,
   "metadata": {},
   "outputs": [],
   "source": [
    "# save_path = \"data\\\\external\\\\processed\\\\\"\n",
    "# train_path = os.path.join(save_path, 'train')\n",
    "# test_path = os.path.join(save_path, 'test')\n",
    "\n",
    "# os.makedirs(train_path, exist_ok=True)\n",
    "# os.makedirs(test_path, exist_ok=True)"
   ]
  },
  {
   "cell_type": "code",
   "execution_count": 28,
   "metadata": {},
   "outputs": [],
   "source": [
    "# import shutil\n",
    "# for ind, files in enumerate(os.listdir(save_path)):\n",
    "#     try:\n",
    "#         int(files[0])\n",
    "#         src = os.path.join( save_path, files )\n",
    "#         if ind < 2000:\n",
    "#             shutil.move( src, train_path )\n",
    "#         else:\n",
    "#             shutil.move( src, test_path )\n",
    "#     except:\n",
    "#         continue"
   ]
  }
 ],
 "metadata": {
  "kernelspec": {
   "display_name": "audio_env",
   "language": "python",
   "name": "audio_env"
  },
  "language_info": {
   "codemirror_mode": {
    "name": "ipython",
    "version": 3
   },
   "file_extension": ".py",
   "mimetype": "text/x-python",
   "name": "python",
   "nbconvert_exporter": "python",
   "pygments_lexer": "ipython3",
   "version": "3.7.9"
  }
 },
 "nbformat": 4,
 "nbformat_minor": 4
}
